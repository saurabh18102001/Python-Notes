{
  "nbformat": 4,
  "nbformat_minor": 0,
  "metadata": {
    "colab": {
      "provenance": [],
      "authorship_tag": "ABX9TyNzmiFgkp+OlfeTObJPR/eO",
      "include_colab_link": true
    },
    "kernelspec": {
      "name": "python3",
      "display_name": "Python 3"
    },
    "language_info": {
      "name": "python"
    }
  },
  "cells": [
    {
      "cell_type": "markdown",
      "metadata": {
        "id": "view-in-github",
        "colab_type": "text"
      },
      "source": [
        "<a href=\"https://colab.research.google.com/github/saurabh18102001/Python-Notes/blob/main/pythonOOPs.ipynb\" target=\"_parent\"><img src=\"https://colab.research.google.com/assets/colab-badge.svg\" alt=\"Open In Colab\"/></a>"
      ]
    },
    {
      "cell_type": "code",
      "execution_count": 2,
      "metadata": {
        "colab": {
          "base_uri": "https://localhost:8080/"
        },
        "id": "cHge4tRyKwqD",
        "outputId": "fc048167-c0f9-4584-b491-44113ea61b4e"
      },
      "outputs": [
        {
          "output_type": "stream",
          "name": "stdout",
          "text": [
            "10\n"
          ]
        }
      ],
      "source": [
        "#class and object\n",
        "class demoClass:\n",
        "  a = 10\n",
        "\n",
        "demoObject = demoClass()      #Object\n",
        "print(demoObject.a)"
      ]
    },
    {
      "cell_type": "code",
      "source": [
        "class sumClass:\n",
        "  a = 101\n",
        "  b = 51\n",
        "  def sumvalue(self):\n",
        "    num1 = 10\n",
        "    num2 = 5\n",
        "    sum = num1+num2\n",
        "    print(sum)\n",
        "\n",
        "sumObject = sumClass()\n",
        "print(sumObject.a)\n",
        "sumObject.sumvalue()\n",
        "\n",
        "# Method and Function is same but the method is defined in the class and the function is defined outside the class.\n",
        "# If we define method/function inside the class than it is compulsory to pass one arguments \"self\""
      ],
      "metadata": {
        "colab": {
          "base_uri": "https://localhost:8080/"
        },
        "id": "-pz_TO8lRLU1",
        "outputId": "50bb6905-49c6-476c-da2c-7b7c8792d1a3"
      },
      "execution_count": 22,
      "outputs": [
        {
          "output_type": "stream",
          "name": "stdout",
          "text": [
            "101\n",
            "15\n"
          ]
        }
      ]
    },
    {
      "cell_type": "code",
      "source": [
        "#Method and Constructor\n",
        "# Method has to call and the constructor has called by itself after the object get made.\n",
        "\n",
        "class example:\n",
        "  a = 100\n",
        "  b = 150\n",
        "  def substract(self):\n",
        "    print(self.a-self.b)\n",
        "\n",
        "exampleObject = example()\n",
        "exampleObject.substract()\n",
        "\n"
      ],
      "metadata": {
        "colab": {
          "base_uri": "https://localhost:8080/"
        },
        "id": "ZpDImH21T02F",
        "outputId": "15b9c680-08b1-499a-bd3b-b1d8153f8b99"
      },
      "execution_count": 25,
      "outputs": [
        {
          "output_type": "stream",
          "name": "stdout",
          "text": [
            "-50\n"
          ]
        }
      ]
    },
    {
      "cell_type": "code",
      "source": [
        "class example:\n",
        "  a = 10\n",
        "  b = 20\n",
        "  def substract(self):\n",
        "    self.c = self.a-self.b\n",
        "    print(self.c)\n",
        "\n",
        "  def showValues(self):\n",
        "    print(\"Welcome to the iconic World!!\")\n",
        "\n",
        "  def showValue(self,a,b):                 #here for a and b we dont use self because it directly come from the arguments\n",
        "    print(a+b)\n",
        "\n",
        "exampleObject = example()\n",
        "exampleObject.substract()\n",
        "exampleObject.showValue(10,20)\n",
        "exampleObject.showValues()"
      ],
      "metadata": {
        "colab": {
          "base_uri": "https://localhost:8080/"
        },
        "id": "pAoR1prOUx6y",
        "outputId": "851f6036-7dcb-4360-82bd-b10ff9bacbea"
      },
      "execution_count": 34,
      "outputs": [
        {
          "output_type": "stream",
          "name": "stdout",
          "text": [
            "-10\n",
            "30\n",
            "Welcome to the iconic World!!\n"
          ]
        }
      ]
    },
    {
      "cell_type": "code",
      "source": [
        "#constructor : __init__(self)  is used to make the constructor\n",
        "\n",
        "class cons:\n",
        "  def __init__(self):\n",
        "    print(\"Welcome to the constructor\")\n",
        "\n",
        "consObject = cons()"
      ],
      "metadata": {
        "colab": {
          "base_uri": "https://localhost:8080/"
        },
        "id": "vgmpuHkCdGZ7",
        "outputId": "f184c306-706d-4808-959e-ac8e190d4ec8"
      },
      "execution_count": 37,
      "outputs": [
        {
          "output_type": "stream",
          "name": "stdout",
          "text": [
            "Welcome to the constructor\n"
          ]
        }
      ]
    },
    {
      "cell_type": "code",
      "source": [
        "#inheriatance  MULTILEVEL\n",
        "\n",
        "class A:\n",
        "  def displayA(self):\n",
        "    print(\"This is class A\")\n",
        "\n",
        "class B(A):                         #B(A) means class A behaviour went to class B\n",
        "  def displayB(self):\n",
        "    print(\"This is class B\")\n",
        "\n",
        "class C(B):\n",
        "  def displayC(self):\n",
        "    print(\"This is class C\")\n",
        "\n",
        "cObject = C()\n",
        "cObject.displayA()\n",
        "cObject.displayB()\n",
        "cObject.displayC()"
      ],
      "metadata": {
        "colab": {
          "base_uri": "https://localhost:8080/"
        },
        "id": "60INYZt-djw8",
        "outputId": "d72d64f0-d93e-4054-a27b-dbda776fd438"
      },
      "execution_count": 40,
      "outputs": [
        {
          "output_type": "stream",
          "name": "stdout",
          "text": [
            "This is class A\n",
            "This is class B\n",
            "This is class C\n"
          ]
        }
      ]
    },
    {
      "cell_type": "code",
      "source": [
        "# MULTIPLE  :- this inheritance doesnt support by java.\n",
        "\n",
        "class A:\n",
        "  def displayA(self):\n",
        "    print(\"This is class A\")\n",
        "\n",
        "class B:                         #B(A) means class A behaviour went to class B\n",
        "  def displayB(self):\n",
        "    print(\"This is class B\")\n",
        "\n",
        "class C(A,B):\n",
        "  def displayC(self):\n",
        "    print(\"This is class C\")\n",
        "\n",
        "cObject = C()\n",
        "cObject.displayA()\n",
        "cObject.displayB()\n",
        "cObject.displayC()"
      ],
      "metadata": {
        "colab": {
          "base_uri": "https://localhost:8080/"
        },
        "id": "2sSEme6RepCK",
        "outputId": "f7489f77-26e9-4f87-9ce1-6fcf018a7d6f"
      },
      "execution_count": 41,
      "outputs": [
        {
          "output_type": "stream",
          "name": "stdout",
          "text": [
            "This is class A\n",
            "This is class B\n",
            "This is class C\n"
          ]
        }
      ]
    },
    {
      "cell_type": "code",
      "source": [
        "#Encapulation(Getter and Setter)\n",
        "#Getter and Setter is just a name not a predefined method\n",
        "\n",
        "class enc:\n",
        "  def __init__(self):\n",
        "    self.__name = \"\"\n",
        "  def getname(self):\n",
        "    return self.__name\n",
        "  def setname(self,name):\n",
        "    self.__name = name\n",
        "\n",
        "encObject = enc()\n",
        "encObject.setname(\"Rohit\")\n",
        "print(encObject.getname())\n",
        "\n",
        "\n"
      ],
      "metadata": {
        "colab": {
          "base_uri": "https://localhost:8080/"
        },
        "id": "sVe5mtJufB38",
        "outputId": "f1420ade-be70-42c2-a424-236663574907"
      },
      "execution_count": 2,
      "outputs": [
        {
          "output_type": "stream",
          "name": "stdout",
          "text": [
            "Rohit\n"
          ]
        }
      ]
    },
    {
      "cell_type": "code",
      "source": [
        "class student:\n",
        "  __name = \"Saurabh\"      #__  :- private varaiable\n",
        "  def __init__(self):\n",
        "    print(self.__name)\n",
        "    self.__displayMsg()\n",
        "\n",
        "  def __displayMsg(self):\n",
        "    print(\"This is private method\")\n",
        "\n",
        "objStudent = student()\n",
        "# print(objStudent.__name)            error\n",
        "# print(objStudent.__displayMsg())    error\n"
      ],
      "metadata": {
        "colab": {
          "base_uri": "https://localhost:8080/"
        },
        "id": "SD20bNCXTEtL",
        "outputId": "0e32ddfa-cc2d-4509-9596-3ec0b7370a25"
      },
      "execution_count": 11,
      "outputs": [
        {
          "output_type": "stream",
          "name": "stdout",
          "text": [
            "Saurabh\n",
            "This is private method\n"
          ]
        }
      ]
    },
    {
      "cell_type": "code",
      "source": [
        "#Polymorphism  : overloading , overriding\n",
        "#Python does not support method overloading. If you define multiple methods with the same name, the last one defined will be the one that is used.\n",
        "\n",
        "class poly:\n",
        "  def overloading(self,a=\"\"):\n",
        "    print(int(a))\n",
        "  def overloading(self,a=\"\",b=\"\"):\n",
        "    print(\"the a and b is: \",a+b)\n",
        "polyObject = poly()\n",
        "polyObject.overloading(1)             #show error\n",
        "polyObject.overloading(10,20)\n"
      ],
      "metadata": {
        "colab": {
          "base_uri": "https://localhost:8080/",
          "height": 315
        },
        "id": "FUmZF7roUtgB",
        "outputId": "ef82fcd8-ded1-429f-a89c-36f1ba740a95"
      },
      "execution_count": 38,
      "outputs": [
        {
          "output_type": "error",
          "ename": "TypeError",
          "evalue": "unsupported operand type(s) for +: 'int' and 'str'",
          "traceback": [
            "\u001b[0;31m---------------------------------------------------------------------------\u001b[0m",
            "\u001b[0;31mTypeError\u001b[0m                                 Traceback (most recent call last)",
            "\u001b[0;32m<ipython-input-38-7946d9920c5c>\u001b[0m in \u001b[0;36m<cell line: 10>\u001b[0;34m()\u001b[0m\n\u001b[1;32m      8\u001b[0m     \u001b[0mprint\u001b[0m\u001b[0;34m(\u001b[0m\u001b[0;34m\"the a and b is: \"\u001b[0m\u001b[0;34m,\u001b[0m\u001b[0ma\u001b[0m\u001b[0;34m+\u001b[0m\u001b[0mb\u001b[0m\u001b[0;34m)\u001b[0m\u001b[0;34m\u001b[0m\u001b[0;34m\u001b[0m\u001b[0m\n\u001b[1;32m      9\u001b[0m \u001b[0mpolyObject\u001b[0m \u001b[0;34m=\u001b[0m \u001b[0mpoly\u001b[0m\u001b[0;34m(\u001b[0m\u001b[0;34m)\u001b[0m\u001b[0;34m\u001b[0m\u001b[0;34m\u001b[0m\u001b[0m\n\u001b[0;32m---> 10\u001b[0;31m \u001b[0mpolyObject\u001b[0m\u001b[0;34m.\u001b[0m\u001b[0moverloading\u001b[0m\u001b[0;34m(\u001b[0m\u001b[0;36m1\u001b[0m\u001b[0;34m)\u001b[0m             \u001b[0;31m#show error\u001b[0m\u001b[0;34m\u001b[0m\u001b[0;34m\u001b[0m\u001b[0m\n\u001b[0m\u001b[1;32m     11\u001b[0m \u001b[0mpolyObject\u001b[0m\u001b[0;34m.\u001b[0m\u001b[0moverloading\u001b[0m\u001b[0;34m(\u001b[0m\u001b[0;36m10\u001b[0m\u001b[0;34m,\u001b[0m\u001b[0;36m20\u001b[0m\u001b[0;34m)\u001b[0m\u001b[0;34m\u001b[0m\u001b[0;34m\u001b[0m\u001b[0m\n",
            "\u001b[0;32m<ipython-input-38-7946d9920c5c>\u001b[0m in \u001b[0;36moverloading\u001b[0;34m(self, a, b)\u001b[0m\n\u001b[1;32m      6\u001b[0m     \u001b[0mprint\u001b[0m\u001b[0;34m(\u001b[0m\u001b[0mint\u001b[0m\u001b[0;34m(\u001b[0m\u001b[0ma\u001b[0m\u001b[0;34m)\u001b[0m\u001b[0;34m)\u001b[0m\u001b[0;34m\u001b[0m\u001b[0;34m\u001b[0m\u001b[0m\n\u001b[1;32m      7\u001b[0m   \u001b[0;32mdef\u001b[0m \u001b[0moverloading\u001b[0m\u001b[0;34m(\u001b[0m\u001b[0mself\u001b[0m\u001b[0;34m,\u001b[0m\u001b[0ma\u001b[0m\u001b[0;34m=\u001b[0m\u001b[0;34m\"\"\u001b[0m\u001b[0;34m,\u001b[0m\u001b[0mb\u001b[0m\u001b[0;34m=\u001b[0m\u001b[0;34m\"\"\u001b[0m\u001b[0;34m)\u001b[0m\u001b[0;34m:\u001b[0m\u001b[0;34m\u001b[0m\u001b[0;34m\u001b[0m\u001b[0m\n\u001b[0;32m----> 8\u001b[0;31m     \u001b[0mprint\u001b[0m\u001b[0;34m(\u001b[0m\u001b[0;34m\"the a and b is: \"\u001b[0m\u001b[0;34m,\u001b[0m\u001b[0ma\u001b[0m\u001b[0;34m+\u001b[0m\u001b[0mb\u001b[0m\u001b[0;34m)\u001b[0m\u001b[0;34m\u001b[0m\u001b[0;34m\u001b[0m\u001b[0m\n\u001b[0m\u001b[1;32m      9\u001b[0m \u001b[0mpolyObject\u001b[0m \u001b[0;34m=\u001b[0m \u001b[0mpoly\u001b[0m\u001b[0;34m(\u001b[0m\u001b[0;34m)\u001b[0m\u001b[0;34m\u001b[0m\u001b[0;34m\u001b[0m\u001b[0m\n\u001b[1;32m     10\u001b[0m \u001b[0mpolyObject\u001b[0m\u001b[0;34m.\u001b[0m\u001b[0moverloading\u001b[0m\u001b[0;34m(\u001b[0m\u001b[0;36m1\u001b[0m\u001b[0;34m)\u001b[0m             \u001b[0;31m#show error\u001b[0m\u001b[0;34m\u001b[0m\u001b[0;34m\u001b[0m\u001b[0m\n",
            "\u001b[0;31mTypeError\u001b[0m: unsupported operand type(s) for +: 'int' and 'str'"
          ]
        }
      ]
    },
    {
      "cell_type": "code",
      "source": [
        "class poly:\n",
        "  def overloading(self,name=\"\",surname=\"\",rollno =\"\"):\n",
        "    print(\"welcome to world\",name,surname,rollno)\n",
        "polyObject = poly()\n",
        "polyObject.overloading()\n",
        "polyObject.overloading(\"Rohit\")\n",
        "polyObject.overloading(\"Rohit\",\"Kumar\")\n",
        "polyObject.overloading(\"Rohit\",\"Kumar\",101)\n"
      ],
      "metadata": {
        "colab": {
          "base_uri": "https://localhost:8080/"
        },
        "id": "cqj2mraPW2or",
        "outputId": "cf36a82e-6f06-4c15-c883-787c03ec4946"
      },
      "execution_count": 47,
      "outputs": [
        {
          "output_type": "stream",
          "name": "stdout",
          "text": [
            "welcome to world   \n",
            "welcome to world Rohit  \n",
            "welcome to world Rohit Kumar \n",
            "welcome to world Rohit Kumar 101\n"
          ]
        }
      ]
    },
    {
      "cell_type": "code",
      "source": [
        "class poly:\n",
        "  def overriding(self,name=\"\",surname=\"\",rollno =\"\"):\n",
        "    print(\"welcome to world\",name,surname,rollno)\n",
        "\n",
        "class poly2(poly):\n",
        "  def overriding(self,name=\"\",surname=\"\",rollno =\"\"):\n",
        "    print(\"welcome to universe\",name,surname,rollno)\n",
        "polyObject = poly2()\n",
        "polyObject.overriding()\n",
        "polyObject.overriding(\"Rohit\")\n",
        "polyObject.overriding(\"Rohit\",\"Kumar\")\n",
        "polyObject.overriding(\"Rohit\",\"Kumar\",101)"
      ],
      "metadata": {
        "colab": {
          "base_uri": "https://localhost:8080/"
        },
        "id": "cLofsBIQYcJb",
        "outputId": "376233a8-7d0f-4286-f15a-0ac36d1a3d1d"
      },
      "execution_count": 50,
      "outputs": [
        {
          "output_type": "stream",
          "name": "stdout",
          "text": [
            "welcome to universe   \n",
            "welcome to universe Rohit  \n",
            "welcome to universe Rohit Kumar \n",
            "welcome to universe Rohit Kumar 101\n"
          ]
        }
      ]
    },
    {
      "cell_type": "code",
      "source": [
        "class poly:\n",
        "  def overriding(self,name=\"\",surname=\"\",rollno =\"\"):\n",
        "    print(\"welcome to world\",name,surname,rollno)\n",
        "\n",
        "class poly2(poly):\n",
        "  def overriding(self,name=\"\",surname=\"\",rollno =\"\"):\n",
        "    super().overriding(name,surname,rollno)                #by the help of super() we can call the parent function.\n",
        "    print(\"welcome to universe\",name,surname,rollno)\n",
        "    print()\n",
        "\n",
        "polyObject = poly2()\n",
        "polyObject.overriding()\n",
        "polyObject.overriding(\"Rohit\")\n",
        "polyObject.overriding(\"Rohit\",\"Kumar\")\n",
        "polyObject.overriding(\"Rohit\",\"Kumar\",101)"
      ],
      "metadata": {
        "colab": {
          "base_uri": "https://localhost:8080/"
        },
        "id": "85OdpI1EY4JK",
        "outputId": "62b31a56-2491-4ccd-fd5c-6aaa17674798"
      },
      "execution_count": 54,
      "outputs": [
        {
          "output_type": "stream",
          "name": "stdout",
          "text": [
            "welcome to world   \n",
            "welcome to universe   \n",
            "\n",
            "welcome to world Rohit  \n",
            "welcome to universe Rohit  \n",
            "\n",
            "welcome to world Rohit Kumar \n",
            "welcome to universe Rohit Kumar \n",
            "\n",
            "welcome to world Rohit Kumar 101\n",
            "welcome to universe Rohit Kumar 101\n",
            "\n"
          ]
        }
      ]
    },
    {
      "cell_type": "code",
      "source": [
        "#area by overloading\n",
        "\n",
        "class area:\n",
        "  def overloading(self, a =None, b=None):\n",
        "    if a!=None and b!=None:\n",
        "      print(\"Area of rectangle is :\",(a*b))\n",
        "    elif(a!=None):\n",
        "      print(\"Area of Square is :\",(a*a))\n",
        "    else:\n",
        "      print(\"Nothing to print\")\n",
        "\n",
        "areaObject = area()\n",
        "areaObject.overloading(10,20)\n",
        "areaObject.overloading(10)\n",
        "areaObject.overloading()"
      ],
      "metadata": {
        "colab": {
          "base_uri": "https://localhost:8080/"
        },
        "id": "Seg2J8URZmf2",
        "outputId": "a251d1f7-9d73-42b1-9318-b57edd07e301"
      },
      "execution_count": 57,
      "outputs": [
        {
          "output_type": "stream",
          "name": "stdout",
          "text": [
            "Area of rectangle is : 200\n",
            "Area of Square is : 100\n",
            "Nothing to print\n"
          ]
        }
      ]
    },
    {
      "cell_type": "code",
      "source": [
        "#overiding\n",
        "\n",
        "class A:\n",
        "  def overriding(self):\n",
        "    print(\"I am in classA\")\n",
        "\n",
        "class B(A):\n",
        "  def overriding(self):\n",
        "    super().overriding()\n",
        "    print(\"I am in classB\")\n",
        "\n",
        "class C(B):\n",
        "  def overriding(self):\n",
        "    super().overriding()\n",
        "    print(\"I am in classC\")\n",
        "\n",
        "cObject = C()\n",
        "cObject.overriding()"
      ],
      "metadata": {
        "colab": {
          "base_uri": "https://localhost:8080/"
        },
        "id": "W4Ea98JWaebf",
        "outputId": "1ec6f8f9-1f7a-4b7c-ec57-d7e2d5bd785f"
      },
      "execution_count": 65,
      "outputs": [
        {
          "output_type": "stream",
          "name": "stdout",
          "text": [
            "I am in classA\n",
            "I am in classB\n",
            "I am in classC\n"
          ]
        }
      ]
    },
    {
      "cell_type": "code",
      "source": [
        "class BikeShop:\n",
        "  def __init__(self,stock):\n",
        "    self.stock = stock\n",
        "  def displayBike(self):\n",
        "    print(\"Total Bike is: \",self.stock)\n",
        "  def rentForBike(self,quantity):\n",
        "    if quantity<=0:\n",
        "      print(\"Enter the positive value or greater than zero\")\n",
        "    elif quantity>self.stock:\n",
        "      print(\"Enter the value less than stock\")\n",
        "    else:\n",
        "      print(\"Total price is: \",quantity*100)\n",
        "      print(\"Total Bike is: \",self.stock-quantity)\n",
        "\n",
        "while True:\n",
        "  bsObject = BikeShop(100)\n",
        "  uc = int(input('''\n",
        "  1.Display\n",
        "  2.Rent a Bike\n",
        "  3.Exit\n",
        "  '''))\n",
        "\n",
        "  if uc==1:\n",
        "    bsObject.displayBike()\n",
        "  elif uc==2:\n",
        "    quantity = int(input(\"Enter the quantity: \"))\n",
        "    bsObject.rentForBike(quantity)\n",
        "\n",
        "  else:\n",
        "    break\n",
        "\n",
        ""
      ],
      "metadata": {
        "colab": {
          "base_uri": "https://localhost:8080/"
        },
        "id": "sk8nFvMhbqOE",
        "outputId": "33ec6524-1084-4191-f25c-5667d59089e9"
      },
      "execution_count": 66,
      "outputs": [
        {
          "name": "stdout",
          "output_type": "stream",
          "text": [
            "\n",
            "  1.Display\n",
            "  2.Rent a Bike\n",
            "  3.Exit\n",
            "  1\n",
            "Total Bike is:  100\n",
            "\n",
            "  1.Display\n",
            "  2.Rent a Bike\n",
            "  3.Exit\n",
            "  2\n",
            "Enter the quantity: 1000\n",
            "Enter the value less than stock\n",
            "\n",
            "  1.Display\n",
            "  2.Rent a Bike\n",
            "  3.Exit\n",
            "  2\n",
            "Enter the quantity: 100\n",
            "Total price is:  10000\n",
            "Total Bike is:  0\n",
            "\n",
            "  1.Display\n",
            "  2.Rent a Bike\n",
            "  3.Exit\n",
            "  2\n",
            "Enter the quantity: 1\n",
            "Total price is:  100\n",
            "Total Bike is:  99\n",
            "\n",
            "  1.Display\n",
            "  2.Rent a Bike\n",
            "  3.Exit\n",
            "  3\n"
          ]
        }
      ]
    },
    {
      "cell_type": "code",
      "source": [],
      "metadata": {
        "id": "KQWDJC0IftXN"
      },
      "execution_count": null,
      "outputs": []
    }
  ]
}