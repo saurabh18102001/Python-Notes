{
  "nbformat": 4,
  "nbformat_minor": 0,
  "metadata": {
    "colab": {
      "provenance": [],
      "authorship_tag": "ABX9TyNAUAv3lbfZioVWG8S+AKTU",
      "include_colab_link": true
    },
    "kernelspec": {
      "name": "python3",
      "display_name": "Python 3"
    },
    "language_info": {
      "name": "python"
    }
  },
  "cells": [
    {
      "cell_type": "markdown",
      "metadata": {
        "id": "view-in-github",
        "colab_type": "text"
      },
      "source": [
        "<a href=\"https://colab.research.google.com/github/saurabh18102001/Python-Notes/blob/main/pythonNotes.ipynb\" target=\"_parent\"><img src=\"https://colab.research.google.com/assets/colab-badge.svg\" alt=\"Open In Colab\"/></a>"
      ]
    },
    {
      "cell_type": "code",
      "execution_count": null,
      "metadata": {
        "colab": {
          "base_uri": "https://localhost:8080/"
        },
        "id": "3hIEIRNxsHe-",
        "outputId": "a108346a-141d-4685-ccf3-e9954b213d7a"
      },
      "outputs": [
        {
          "output_type": "stream",
          "name": "stdout",
          "text": [
            "10 10 5\n",
            "\n",
            "139230425711120 139230425711120 139230425710960\n"
          ]
        }
      ],
      "source": [
        "# id() function is used to find the address of the variable. Here the addrees is assign according to the value not to the variable.\n",
        "a =10\n",
        "b =10\n",
        "c =5\n",
        "print(a,b,c)\n",
        "print()\n",
        "print(id(a),id(b),id(c))\n",
        "# 139230425711120 , 139230425711120 , 139230425710960\n"
      ]
    },
    {
      "cell_type": "code",
      "source": [
        "#Operators in Python\n",
        "\n",
        "a = 1\n",
        "b = 20\n",
        "print(a+b)\n",
        "print(a-b)\n",
        "print(a*b)\n",
        "print(a/b)\n",
        "print(a%b)\n",
        "print(a**b)       #Expotents\n",
        "print(a//b)      #floor division"
      ],
      "metadata": {
        "colab": {
          "base_uri": "https://localhost:8080/"
        },
        "id": "VoY3EhE6U1HZ",
        "outputId": "85a76b42-9219-40c5-a757-ec0b9a913f1b"
      },
      "execution_count": 1,
      "outputs": [
        {
          "output_type": "stream",
          "name": "stdout",
          "text": [
            "21\n",
            "-19\n",
            "20\n",
            "0.05\n",
            "1\n",
            "1\n",
            "0\n"
          ]
        }
      ]
    },
    {
      "cell_type": "code",
      "source": [
        "#Assignment Operators\n",
        "a = 5\n",
        "print(a)\n",
        "a += 5\n",
        "print(a)\n",
        "a -= 5\n",
        "print(a)\n",
        "a *= 5\n",
        "print(a)\n",
        "a /= 5\n",
        "print(a)\n"
      ],
      "metadata": {
        "colab": {
          "base_uri": "https://localhost:8080/"
        },
        "id": "rBco0remVjm8",
        "outputId": "732e23e5-1ca9-4794-831e-f4e1ae688fff"
      },
      "execution_count": 3,
      "outputs": [
        {
          "output_type": "stream",
          "name": "stdout",
          "text": [
            "5\n",
            "10\n",
            "5\n",
            "25\n",
            "5.0\n"
          ]
        }
      ]
    },
    {
      "cell_type": "code",
      "source": [
        "#comparision Operators\n",
        "\n",
        "a = 5\n",
        "b = 10\n",
        "print(a==b)\n",
        "print(a!=b)\n",
        "print(a>b)\n",
        "print(a<b)\n",
        "print(a>=b)\n",
        "print(a<=b)"
      ],
      "metadata": {
        "colab": {
          "base_uri": "https://localhost:8080/"
        },
        "id": "XDTItiMIV5Sx",
        "outputId": "ecba0b69-4496-4fab-cc6b-ce8aafdc742c"
      },
      "execution_count": 4,
      "outputs": [
        {
          "output_type": "stream",
          "name": "stdout",
          "text": [
            "False\n",
            "True\n",
            "False\n",
            "True\n",
            "False\n",
            "True\n"
          ]
        }
      ]
    },
    {
      "cell_type": "code",
      "source": [
        "#Logical Operators\n",
        "\n",
        "a = True\n",
        "b = False\n",
        "print(a and b)\n",
        "print(a or b)\n",
        "print(not a)"
      ],
      "metadata": {
        "colab": {
          "base_uri": "https://localhost:8080/"
        },
        "id": "HnPWJPCFWC2x",
        "outputId": "d1b688fd-f4dc-4fda-ca0d-cbc9b8775fcc"
      },
      "execution_count": 5,
      "outputs": [
        {
          "output_type": "stream",
          "name": "stdout",
          "text": [
            "False\n",
            "True\n",
            "False\n"
          ]
        }
      ]
    },
    {
      "cell_type": "code",
      "source": [
        "#Membership Operators:  in , not in\n",
        "\n",
        "a = 5\n",
        "b = [1,2,3,4,5]\n",
        "print(a in b)\n",
        "print(a not in b)"
      ],
      "metadata": {
        "colab": {
          "base_uri": "https://localhost:8080/"
        },
        "id": "r6FomIO1WOsr",
        "outputId": "c21cdb8f-212a-490c-d260-91c73eab9f74"
      },
      "execution_count": 6,
      "outputs": [
        {
          "output_type": "stream",
          "name": "stdout",
          "text": [
            "True\n",
            "False\n"
          ]
        }
      ]
    },
    {
      "cell_type": "code",
      "source": [
        "#Identity Operators: is(==) , is not(!=)\n",
        "\n",
        "a = 5\n",
        "b = 5\n",
        "print(a is b)\n",
        "print(a is not b)"
      ],
      "metadata": {
        "colab": {
          "base_uri": "https://localhost:8080/"
        },
        "id": "bOxWB-sVWykh",
        "outputId": "b70633df-5799-46ac-97c7-c07d7928b287"
      },
      "execution_count": 7,
      "outputs": [
        {
          "output_type": "stream",
          "name": "stdout",
          "text": [
            "True\n",
            "False\n"
          ]
        }
      ]
    },
    {
      "cell_type": "code",
      "source": [
        "#Bitwise Operators : AND(&) , OR(|) , XOR(^)  works on the bit in 0 and 1 format\n",
        "\n",
        "# AND 1 & 1 = 1  ||  1 & 0 = 0 || 0 & 1 = 0 || 0 & 0 = 0\n",
        "# OR  1 | 1 = 1  ||  1 | 0 = 1 || 0 | 1 = 1 || 0 | 0 = 0\n",
        "# XOR 1 ^ 1 = 0  ||  1 ^ 0 = 1 || 0 ^ 1 = 1 || 0 ^ 0 = 0\n",
        "\n",
        "\n",
        "a = 12\n",
        "print(\"Binary os a is:\",bin(a))          #1100\n",
        "b = 23\n",
        "print(\"Binary os a is:\",bin(b))          #10111\n",
        "print(\"Bitwise AND is:\",a & b)\n",
        "print(\"Bitwise OR is:\",a | b)\n",
        "print(\"Bitwise XOR is:\",a ^ b)\n",
        "\n"
      ],
      "metadata": {
        "colab": {
          "base_uri": "https://localhost:8080/"
        },
        "id": "CsLJxePFW5hW",
        "outputId": "c7a0584d-59d8-4260-fdf1-a439ba05d10b"
      },
      "execution_count": 12,
      "outputs": [
        {
          "output_type": "stream",
          "name": "stdout",
          "text": [
            "Binary os a is: 0b1100\n",
            "Binary os a is: 0b10111\n",
            "Bitwise AND is: 4\n",
            "Bitwise OR is: 31\n",
            "Bitwise XOR is: 27\n"
          ]
        }
      ]
    },
    {
      "cell_type": "code",
      "source": [
        "#Data Types\n",
        "# 1) Numeric:- Integers, Float, Complex Numbers\n",
        "# 2) SequenceType :-String, List, Tuple\n",
        "# 3) Set\n",
        "# 4) Dictionary\n",
        "\n",
        "# Mutable(Changeable) :- List, Set, Dictionary\n",
        "# Immutable(Not Changeable) :- Int, Float, String, Tuple, Complex, Set\n",
        "\n",
        "a = 10\n",
        "print(type(a))\n",
        "a = 10.5\n",
        "print(type(a))\n",
        "a = 10+5j\n",
        "print(type(a))\n",
        "\n",
        "s = \"Hello\"       #Single Line String\n",
        "print(type(s))\n",
        "s = '''Hello\n",
        "Saurabh'''        #Multile Line String\n",
        "print(type(s),s)\n",
        "l = [1,2,3,4]\n",
        "print(type(l))\n",
        "t = (1,2,3,4)\n",
        "print(type(t))\n",
        "\n",
        "dic = {1:\"One\",2:\"Two\"}\n",
        "print(type(dic))\n",
        "\n",
        "sets = {1,2,3,4,4,5,1}\n",
        "print(type(sets))\n"
      ],
      "metadata": {
        "colab": {
          "base_uri": "https://localhost:8080/"
        },
        "id": "iRkHkd2LY_SY",
        "outputId": "5cf949fa-5801-4db1-858a-75d18ef4a461"
      },
      "execution_count": 18,
      "outputs": [
        {
          "output_type": "stream",
          "name": "stdout",
          "text": [
            "<class 'int'>\n",
            "<class 'float'>\n",
            "<class 'complex'>\n",
            "<class 'str'>\n",
            "<class 'str'> Hello \n",
            "Saurabh\n",
            "<class 'list'>\n",
            "<class 'tuple'>\n",
            "<class 'dict'>\n",
            "<class 'set'>\n"
          ]
        }
      ]
    },
    {
      "cell_type": "code",
      "source": [
        "#Getting User Input :- input()\n",
        "\n",
        "a = input(\"Enter the name\")\n",
        "print(a)"
      ],
      "metadata": {
        "colab": {
          "base_uri": "https://localhost:8080/"
        },
        "id": "62aMd36rbvFx",
        "outputId": "eb3a4c86-e084-4baa-9f6f-a212e24c9d5e"
      },
      "execution_count": 19,
      "outputs": [
        {
          "output_type": "stream",
          "name": "stdout",
          "text": [
            "Enter the namesaurabh\n",
            "saurabh\n"
          ]
        }
      ]
    },
    {
      "cell_type": "code",
      "source": [
        "#Type casting : int(), float(), eval()\n",
        "#eval() :- Handle int and float in type castings\n",
        "\n",
        "a = int(input(\"Enter the first number\"))\n",
        "b = int(input(\"Enter the second number\"))\n",
        "print(a+b)\n",
        "c = float(input(\"Enter the first number\"))\n",
        "d = float(input(\"Enter the second number\"))\n",
        "print(c+d)\n",
        "e = eval(input(\"Enter the first number\"))\n",
        "f = eval(input(\"Enter the second number\"))\n",
        "print(e+f)"
      ],
      "metadata": {
        "colab": {
          "base_uri": "https://localhost:8080/"
        },
        "id": "WICeLHYDcXlO",
        "outputId": "4950fe04-1374-4665-bfed-e8d55e27cd0c"
      },
      "execution_count": 20,
      "outputs": [
        {
          "output_type": "stream",
          "name": "stdout",
          "text": [
            "Enter the first number1\n",
            "Enter the second number1\n",
            "2\n",
            "Enter the first number1\n",
            "Enter the second number1\n",
            "2.0\n",
            "Enter the first number1\n",
            "Enter the second number1.1\n",
            "2.1\n"
          ]
        }
      ]
    },
    {
      "cell_type": "code",
      "source": [
        "#Python Conditionals\n",
        "# if statements\n",
        "# if else statements\n",
        "# if elif else statements\n",
        "a = int(input(\"Enter the number\"))\n",
        "if a%2==0:\n",
        "    print(\"Even\")\n",
        "else:\n",
        "    print(\"Odd\")"
      ],
      "metadata": {
        "colab": {
          "base_uri": "https://localhost:8080/"
        },
        "id": "VCZAi-h1c576",
        "outputId": "0dfa4af2-db32-4e5e-cd16-638ece9a97ca"
      },
      "execution_count": 24,
      "outputs": [
        {
          "output_type": "stream",
          "name": "stdout",
          "text": [
            "Enter the number5\n",
            "Odd\n"
          ]
        }
      ]
    },
    {
      "cell_type": "code",
      "source": [
        "a = int(input(\"Enter the number\"))\n",
        "if a>0:\n",
        "    print(\"Positive\")\n",
        "elif a<0:\n",
        "    print(\"Negative\")\n",
        "else:\n",
        "    print(\"Zero\")"
      ],
      "metadata": {
        "colab": {
          "base_uri": "https://localhost:8080/"
        },
        "id": "oneSkMHLdODu",
        "outputId": "0f51c342-198c-413c-9429-a80985430af4"
      },
      "execution_count": 26,
      "outputs": [
        {
          "output_type": "stream",
          "name": "stdout",
          "text": [
            "Enter the number0\n",
            "Zero\n"
          ]
        }
      ]
    }
  ]
}