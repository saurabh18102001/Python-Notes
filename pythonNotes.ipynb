{
  "nbformat": 4,
  "nbformat_minor": 0,
  "metadata": {
    "colab": {
      "provenance": [],
      "authorship_tag": "ABX9TyPrAZEgqsbh8KzzdlMlx7cr",
      "include_colab_link": true
    },
    "kernelspec": {
      "name": "python3",
      "display_name": "Python 3"
    },
    "language_info": {
      "name": "python"
    }
  },
  "cells": [
    {
      "cell_type": "markdown",
      "metadata": {
        "id": "view-in-github",
        "colab_type": "text"
      },
      "source": [
        "<a href=\"https://colab.research.google.com/github/saurabh18102001/Python-Notes/blob/main/pythonNotes.ipynb\" target=\"_parent\"><img src=\"https://colab.research.google.com/assets/colab-badge.svg\" alt=\"Open In Colab\"/></a>"
      ]
    },
    {
      "cell_type": "code",
      "execution_count": null,
      "metadata": {
        "colab": {
          "base_uri": "https://localhost:8080/"
        },
        "id": "3hIEIRNxsHe-",
        "outputId": "a108346a-141d-4685-ccf3-e9954b213d7a"
      },
      "outputs": [
        {
          "output_type": "stream",
          "name": "stdout",
          "text": [
            "10 10 5\n",
            "\n",
            "139230425711120 139230425711120 139230425710960\n"
          ]
        }
      ],
      "source": [
        "# id() function is used to find the address of the variable. Here the addrees is assign according to the value not to the variable.\n",
        "a =10\n",
        "b =10\n",
        "c =5\n",
        "print(a,b,c)\n",
        "print()\n",
        "print(id(a),id(b),id(c))\n",
        "# 139230425711120 , 139230425711120 , 139230425710960\n"
      ]
    },
    {
      "cell_type": "code",
      "source": [
        "#Operators in Python\n",
        "\n",
        "a = 1\n",
        "b = 20\n",
        "print(a+b)\n",
        "print(a-b)\n",
        "print(a*b)\n",
        "print(a/b)\n",
        "print(a%b)\n",
        "print(a**b)       #Expotents\n",
        "print(a//b)      #floor division"
      ],
      "metadata": {
        "colab": {
          "base_uri": "https://localhost:8080/"
        },
        "id": "VoY3EhE6U1HZ",
        "outputId": "85a76b42-9219-40c5-a757-ec0b9a913f1b"
      },
      "execution_count": 1,
      "outputs": [
        {
          "output_type": "stream",
          "name": "stdout",
          "text": [
            "21\n",
            "-19\n",
            "20\n",
            "0.05\n",
            "1\n",
            "1\n",
            "0\n"
          ]
        }
      ]
    },
    {
      "cell_type": "code",
      "source": [
        "#Assignment Operators\n",
        "a = 5\n",
        "print(a)\n",
        "a += 5\n",
        "print(a)\n",
        "a -= 5\n",
        "print(a)\n",
        "a *= 5\n",
        "print(a)\n",
        "a /= 5\n",
        "print(a)\n"
      ],
      "metadata": {
        "colab": {
          "base_uri": "https://localhost:8080/"
        },
        "id": "rBco0remVjm8",
        "outputId": "732e23e5-1ca9-4794-831e-f4e1ae688fff"
      },
      "execution_count": 3,
      "outputs": [
        {
          "output_type": "stream",
          "name": "stdout",
          "text": [
            "5\n",
            "10\n",
            "5\n",
            "25\n",
            "5.0\n"
          ]
        }
      ]
    },
    {
      "cell_type": "code",
      "source": [
        "#comparision Operators\n",
        "\n",
        "a = 5\n",
        "b = 10\n",
        "print(a==b)\n",
        "print(a!=b)\n",
        "print(a>b)\n",
        "print(a<b)\n",
        "print(a>=b)\n",
        "print(a<=b)"
      ],
      "metadata": {
        "colab": {
          "base_uri": "https://localhost:8080/"
        },
        "id": "XDTItiMIV5Sx",
        "outputId": "ecba0b69-4496-4fab-cc6b-ce8aafdc742c"
      },
      "execution_count": 4,
      "outputs": [
        {
          "output_type": "stream",
          "name": "stdout",
          "text": [
            "False\n",
            "True\n",
            "False\n",
            "True\n",
            "False\n",
            "True\n"
          ]
        }
      ]
    },
    {
      "cell_type": "code",
      "source": [
        "#Logical Operators\n",
        "\n",
        "a = True\n",
        "b = False\n",
        "print(a and b)\n",
        "print(a or b)\n",
        "print(not a)"
      ],
      "metadata": {
        "colab": {
          "base_uri": "https://localhost:8080/"
        },
        "id": "HnPWJPCFWC2x",
        "outputId": "d1b688fd-f4dc-4fda-ca0d-cbc9b8775fcc"
      },
      "execution_count": 5,
      "outputs": [
        {
          "output_type": "stream",
          "name": "stdout",
          "text": [
            "False\n",
            "True\n",
            "False\n"
          ]
        }
      ]
    },
    {
      "cell_type": "code",
      "source": [
        "#Membership Operators:  in , not in\n",
        "\n",
        "a = 5\n",
        "b = [1,2,3,4,5]\n",
        "print(a in b)\n",
        "print(a not in b)"
      ],
      "metadata": {
        "colab": {
          "base_uri": "https://localhost:8080/"
        },
        "id": "r6FomIO1WOsr",
        "outputId": "c21cdb8f-212a-490c-d260-91c73eab9f74"
      },
      "execution_count": 6,
      "outputs": [
        {
          "output_type": "stream",
          "name": "stdout",
          "text": [
            "True\n",
            "False\n"
          ]
        }
      ]
    },
    {
      "cell_type": "code",
      "source": [
        "#Identity Operators: is(==) , is not(!=)\n",
        "\n",
        "a = 5\n",
        "b = 5\n",
        "print(a is b)\n",
        "print(a is not b)"
      ],
      "metadata": {
        "colab": {
          "base_uri": "https://localhost:8080/"
        },
        "id": "bOxWB-sVWykh",
        "outputId": "b70633df-5799-46ac-97c7-c07d7928b287"
      },
      "execution_count": 7,
      "outputs": [
        {
          "output_type": "stream",
          "name": "stdout",
          "text": [
            "True\n",
            "False\n"
          ]
        }
      ]
    },
    {
      "cell_type": "code",
      "source": [
        "#Bitwise Operators : AND(&) , OR(|) , XOR(^)  works on the bit in 0 and 1 format\n",
        "\n",
        "# AND 1 & 1 = 1  ||  1 & 0 = 0 || 0 & 1 = 0 || 0 & 0 = 0\n",
        "# OR  1 | 1 = 1  ||  1 | 0 = 1 || 0 | 1 = 1 || 0 | 0 = 0\n",
        "# XOR 1 ^ 1 = 0  ||  1 ^ 0 = 1 || 0 ^ 1 = 1 || 0 ^ 0 = 0\n",
        "\n",
        "\n",
        "a = 12\n",
        "print(\"Binary os a is:\",bin(a))          #1100\n",
        "b = 23\n",
        "print(\"Binary os a is:\",bin(b))          #10111\n",
        "print(\"Bitwise AND is:\",a & b)\n",
        "print(\"Bitwise OR is:\",a | b)\n",
        "print(\"Bitwise XOR is:\",a ^ b)\n",
        "\n"
      ],
      "metadata": {
        "colab": {
          "base_uri": "https://localhost:8080/"
        },
        "id": "CsLJxePFW5hW",
        "outputId": "c7a0584d-59d8-4260-fdf1-a439ba05d10b"
      },
      "execution_count": 12,
      "outputs": [
        {
          "output_type": "stream",
          "name": "stdout",
          "text": [
            "Binary os a is: 0b1100\n",
            "Binary os a is: 0b10111\n",
            "Bitwise AND is: 4\n",
            "Bitwise OR is: 31\n",
            "Bitwise XOR is: 27\n"
          ]
        }
      ]
    },
    {
      "cell_type": "code",
      "source": [
        "#Data Types\n",
        "# 1) Numeric:- Integers, Float, Complex Numbers\n",
        "# 2) SequenceType :-String, List, Tuple\n",
        "# 3) Set\n",
        "# 4) Dictionary\n",
        "\n",
        "# Mutable(Changeable) :- List, Set, Dictionary\n",
        "# Immutable(Not Changeable) :- Int, Float, String, Tuple, Complex, Set\n",
        "\n",
        "a = 10\n",
        "print(type(a))\n",
        "a = 10.5\n",
        "print(type(a))\n",
        "a = 10+5j\n",
        "print(type(a))\n",
        "\n",
        "s = \"Hello\"       #Single Line String\n",
        "print(type(s))\n",
        "s = '''Hello\n",
        "Saurabh'''        #Multile Line String\n",
        "print(type(s),s)\n",
        "l = [1,2,3,4]\n",
        "print(type(l))\n",
        "t = (1,2,3,4)\n",
        "print(type(t))\n",
        "\n",
        "dic = {1:\"One\",2:\"Two\"}\n",
        "print(type(dic))\n",
        "\n",
        "sets = {1,2,3,4,4,5,1}\n",
        "print(type(sets))\n"
      ],
      "metadata": {
        "colab": {
          "base_uri": "https://localhost:8080/"
        },
        "id": "iRkHkd2LY_SY",
        "outputId": "5cf949fa-5801-4db1-858a-75d18ef4a461"
      },
      "execution_count": 18,
      "outputs": [
        {
          "output_type": "stream",
          "name": "stdout",
          "text": [
            "<class 'int'>\n",
            "<class 'float'>\n",
            "<class 'complex'>\n",
            "<class 'str'>\n",
            "<class 'str'> Hello \n",
            "Saurabh\n",
            "<class 'list'>\n",
            "<class 'tuple'>\n",
            "<class 'dict'>\n",
            "<class 'set'>\n"
          ]
        }
      ]
    },
    {
      "cell_type": "code",
      "source": [
        "#Getting User Input :- input()\n",
        "\n",
        "a = input(\"Enter the name\")\n",
        "print(a)"
      ],
      "metadata": {
        "colab": {
          "base_uri": "https://localhost:8080/"
        },
        "id": "62aMd36rbvFx",
        "outputId": "eb3a4c86-e084-4baa-9f6f-a212e24c9d5e"
      },
      "execution_count": 19,
      "outputs": [
        {
          "output_type": "stream",
          "name": "stdout",
          "text": [
            "Enter the namesaurabh\n",
            "saurabh\n"
          ]
        }
      ]
    },
    {
      "cell_type": "code",
      "source": [
        "#Type casting : int(), float(), eval()\n",
        "#eval() :- Handle int and float in type castings\n",
        "\n",
        "a = int(input(\"Enter the first number\"))\n",
        "b = int(input(\"Enter the second number\"))\n",
        "print(a+b)\n",
        "c = float(input(\"Enter the first number\"))\n",
        "d = float(input(\"Enter the second number\"))\n",
        "print(c+d)\n",
        "e = eval(input(\"Enter the first number\"))\n",
        "f = eval(input(\"Enter the second number\"))\n",
        "print(e+f)"
      ],
      "metadata": {
        "colab": {
          "base_uri": "https://localhost:8080/"
        },
        "id": "WICeLHYDcXlO",
        "outputId": "4950fe04-1374-4665-bfed-e8d55e27cd0c"
      },
      "execution_count": 20,
      "outputs": [
        {
          "output_type": "stream",
          "name": "stdout",
          "text": [
            "Enter the first number1\n",
            "Enter the second number1\n",
            "2\n",
            "Enter the first number1\n",
            "Enter the second number1\n",
            "2.0\n",
            "Enter the first number1\n",
            "Enter the second number1.1\n",
            "2.1\n"
          ]
        }
      ]
    },
    {
      "cell_type": "code",
      "source": [
        "#Python Conditionals\n",
        "# if statements\n",
        "# if else statements\n",
        "# if elif else statements\n",
        "a = int(input(\"Enter the number\"))\n",
        "if a%2==0:\n",
        "    print(\"Even\")\n",
        "else:\n",
        "    print(\"Odd\")"
      ],
      "metadata": {
        "colab": {
          "base_uri": "https://localhost:8080/"
        },
        "id": "VCZAi-h1c576",
        "outputId": "0dfa4af2-db32-4e5e-cd16-638ece9a97ca"
      },
      "execution_count": 24,
      "outputs": [
        {
          "output_type": "stream",
          "name": "stdout",
          "text": [
            "Enter the number5\n",
            "Odd\n"
          ]
        }
      ]
    },
    {
      "cell_type": "code",
      "source": [
        "a = int(input(\"Enter the number\"))\n",
        "if a>0:\n",
        "    print(\"Positive\")\n",
        "elif a<0:\n",
        "    print(\"Negative\")\n",
        "else:\n",
        "    print(\"Zero\")"
      ],
      "metadata": {
        "colab": {
          "base_uri": "https://localhost:8080/"
        },
        "id": "oneSkMHLdODu",
        "outputId": "0f51c342-198c-413c-9429-a80985430af4"
      },
      "execution_count": 26,
      "outputs": [
        {
          "output_type": "stream",
          "name": "stdout",
          "text": [
            "Enter the number0\n",
            "Zero\n"
          ]
        }
      ]
    },
    {
      "cell_type": "code",
      "source": [
        "#for loop with range(start, condition, increment) function\n",
        "for i in range(0,5):\n",
        "    print(i)\n",
        "print()\n",
        "for i in range(10,1,-1):\n",
        "    print(i)"
      ],
      "metadata": {
        "colab": {
          "base_uri": "https://localhost:8080/"
        },
        "id": "f7O37tsNmvsU",
        "outputId": "801e2f98-239b-46f2-ea47-29dd6c4ee895"
      },
      "execution_count": 4,
      "outputs": [
        {
          "output_type": "stream",
          "name": "stdout",
          "text": [
            "0\n",
            "1\n",
            "2\n",
            "3\n",
            "4\n",
            "\n",
            "10\n",
            "9\n",
            "8\n",
            "7\n",
            "6\n",
            "5\n",
            "4\n",
            "3\n",
            "2\n"
          ]
        }
      ]
    },
    {
      "cell_type": "code",
      "source": [
        "#while loop in python\n",
        "#start condition increment\n",
        "a =1\n",
        "while(a<=10):\n",
        "    print(a)\n",
        "    a=a+1\n",
        "\n",
        "\n"
      ],
      "metadata": {
        "colab": {
          "base_uri": "https://localhost:8080/"
        },
        "id": "fPO9ErdMngYn",
        "outputId": "eff9b5c3-9f23-4bba-e521-392fffbad6ff"
      },
      "execution_count": 7,
      "outputs": [
        {
          "output_type": "stream",
          "name": "stdout",
          "text": [
            "1\n",
            "2\n",
            "3\n",
            "4\n",
            "5\n",
            "6\n",
            "7\n",
            "8\n",
            "9\n",
            "10\n"
          ]
        }
      ]
    },
    {
      "cell_type": "code",
      "source": [
        "#string\n",
        "# 0  1  2  3  4\n",
        "# H  E  L  L  O\n",
        "#-1 -2 -3 -4 -5\n",
        "\n",
        "s = \"Hello\"\n",
        "print(s[0])\n",
        "print(s[-1])\n",
        "print(s[1:4])\n",
        "print(s)\n",
        "print(s[::-1])\n",
        "print(s[1:5:2])"
      ],
      "metadata": {
        "colab": {
          "base_uri": "https://localhost:8080/"
        },
        "id": "yIBO6PTcoJU7",
        "outputId": "43a87ab4-efde-4371-b285-bb64f09ba6ba"
      },
      "execution_count": 11,
      "outputs": [
        {
          "output_type": "stream",
          "name": "stdout",
          "text": [
            "H\n",
            "o\n",
            "ell\n",
            "Hello\n",
            "olleH\n",
            "el\n"
          ]
        }
      ]
    },
    {
      "cell_type": "code",
      "source": [
        "#string iteation\n",
        "a = \"hello\"\n",
        "for i in a[::-1]:\n",
        "  print(i)\n",
        "print()\n",
        "for i in a:\n",
        "  print(i)"
      ],
      "metadata": {
        "colab": {
          "base_uri": "https://localhost:8080/"
        },
        "id": "_aIN7BJFosZt",
        "outputId": "6c4e4df0-a186-441a-d94a-459f38416e02"
      },
      "execution_count": 16,
      "outputs": [
        {
          "output_type": "stream",
          "name": "stdout",
          "text": [
            "o\n",
            "l\n",
            "l\n",
            "e\n",
            "h\n",
            "\n",
            "h\n",
            "e\n",
            "l\n",
            "l\n",
            "o\n"
          ]
        }
      ]
    },
    {
      "cell_type": "code",
      "source": [
        "#string function\n",
        "#lower(), upper(), title(), captiliaze(), find(), index(), isalpha(), isdigit(), isalnum()\n",
        "s = \"HelloSaurabh\"\n",
        "print(s.lower())\n",
        "print(s.upper())\n",
        "print(s.title())\n",
        "print(s.capitalize())\n",
        "print()\n",
        "print(s.find(\"au\"))     #it is used to find the character at which index\n",
        "print(s.index(\"a\"))     #it is also used to find the index number of the character the only diff is b/w find() and index() is index() will give the error if the string is not present and find() will give -1\n",
        "print(s.isalpha())      #it check whether the string is only alphabet or number if alphabet return true or return false . For space also it is given false.\n",
        "print(s.isdigit())      #it check whether the number is number or not\n",
        "print(s.isalnum())      #it has the combination of alphabet and number but return false if it has special characters. If has space than it give false."
      ],
      "metadata": {
        "colab": {
          "base_uri": "https://localhost:8080/"
        },
        "id": "G_uFw1Wvpckn",
        "outputId": "8dc0ef6a-bae3-4d25-a8d6-1199af3b38fb"
      },
      "execution_count": 25,
      "outputs": [
        {
          "output_type": "stream",
          "name": "stdout",
          "text": [
            "hellosaurabh\n",
            "HELLOSAURABH\n",
            "Hellosaurabh\n",
            "Hellosaurabh\n",
            "\n",
            "6\n",
            "6\n",
            "True\n",
            "False\n",
            "True\n"
          ]
        }
      ]
    },
    {
      "cell_type": "code",
      "source": [
        "#format()\n",
        "\n",
        "a = \"saurabh\"\n",
        "b =23\n",
        "print(\"My name is {} and my age is {}\".format(a,b))\n",
        "print()\n",
        "print(\"My name is {} and my age is {}\".format(b,a))\n",
        "print()\n",
        "f = f\"My name is {a} and my age is {b}\"\n",
        "print(f)"
      ],
      "metadata": {
        "colab": {
          "base_uri": "https://localhost:8080/"
        },
        "id": "KGniPtr3sWDk",
        "outputId": "dae4bd8d-0b2f-42c3-e5b3-9ee765e6249d"
      },
      "execution_count": 29,
      "outputs": [
        {
          "output_type": "stream",
          "name": "stdout",
          "text": [
            "My name is saurabh and my age is 23\n",
            "\n",
            "My name is 23 and my age is saurabh\n",
            "\n",
            "My name is saurabh and my age is 23\n"
          ]
        }
      ]
    },
    {
      "cell_type": "code",
      "source": [
        "#List :- Mutable\n",
        "\n",
        "a = [1,2,3,4,5,6]\n",
        "print(a)\n",
        "print(a[0])\n",
        "print(a[-1])\n",
        "print(a[1:4])\n",
        "print(a[::-1])\n",
        "print(a[1:5:2])"
      ],
      "metadata": {
        "colab": {
          "base_uri": "https://localhost:8080/"
        },
        "id": "B9UKCyCBsuew",
        "outputId": "9e8247c9-9e46-4da2-b527-494fd4624dc8"
      },
      "execution_count": 2,
      "outputs": [
        {
          "output_type": "stream",
          "name": "stdout",
          "text": [
            "[1, 2, 3, 4, 5, 6]\n",
            "1\n",
            "6\n",
            "[2, 3, 4]\n",
            "[6, 5, 4, 3, 2, 1]\n",
            "[2, 4]\n"
          ]
        }
      ]
    },
    {
      "cell_type": "code",
      "source": [
        "#list iteration\n",
        "\n",
        "a = [1,2,3,4,5,[11,12,13],6]\n",
        "for i in a:\n",
        "  print(i)"
      ],
      "metadata": {
        "colab": {
          "base_uri": "https://localhost:8080/"
        },
        "id": "hqDgiHnEjBjU",
        "outputId": "d14a93ef-b7e3-40f4-a1e0-6ae3c64fb751"
      },
      "execution_count": 5,
      "outputs": [
        {
          "output_type": "stream",
          "name": "stdout",
          "text": [
            "1\n",
            "2\n",
            "3\n",
            "4\n",
            "5\n",
            "[11, 12, 13]\n",
            "6\n"
          ]
        }
      ]
    },
    {
      "cell_type": "code",
      "source": [
        "for i in range(len(a)):\n",
        "  print(a[i])\n",
        "print()\n",
        "for i in a:\n",
        "  if type(i)==list:\n",
        "    for j in i:\n",
        "      print(j)\n",
        ""
      ],
      "metadata": {
        "colab": {
          "base_uri": "https://localhost:8080/"
        },
        "id": "6lniTLUXjV-x",
        "outputId": "e584287f-336f-4ca2-823e-e58e576b963c"
      },
      "execution_count": 8,
      "outputs": [
        {
          "output_type": "stream",
          "name": "stdout",
          "text": [
            "1\n",
            "2\n",
            "3\n",
            "4\n",
            "5\n",
            "[11, 12, 13]\n",
            "6\n",
            "\n",
            "11\n",
            "12\n",
            "13\n"
          ]
        }
      ]
    },
    {
      "cell_type": "code",
      "source": [
        "a  = [1,2,3,4,5,6]\n",
        "for i in range(len(a),0,-1):\n",
        "  print(i)"
      ],
      "metadata": {
        "colab": {
          "base_uri": "https://localhost:8080/"
        },
        "id": "dC9jQE71rotO",
        "outputId": "20f9c156-2223-48a0-b996-f398c14f0c98"
      },
      "execution_count": 14,
      "outputs": [
        {
          "output_type": "stream",
          "name": "stdout",
          "text": [
            "6\n",
            "5\n",
            "4\n",
            "3\n",
            "2\n",
            "1\n"
          ]
        }
      ]
    },
    {
      "cell_type": "code",
      "source": [
        "#List Function\n",
        "# del(), pop(), remove(), clear()\n",
        "\n",
        "l = [1,2,3,4,5,6,7,8,9]\n",
        "del(l[0])                       #del(list[index])\n",
        "print(\"delete:\",l)\n",
        "l.pop()                         #list.pop(index) if it is blank than last number will be delete otherwise specific number will be delete\n",
        "print(\"pop:\",l)\n",
        "l.remove(3)                     #list.remove(value)\n",
        "print(\"remove:\",l)\n",
        "l.clear()                       #list.clear()\n",
        "print(\"clear:\",l)\n",
        "\n"
      ],
      "metadata": {
        "colab": {
          "base_uri": "https://localhost:8080/"
        },
        "id": "FEO98OTqsi_2",
        "outputId": "1b0dc4e7-4f62-4ee2-d3f5-5fdd74871fb7"
      },
      "execution_count": 17,
      "outputs": [
        {
          "output_type": "stream",
          "name": "stdout",
          "text": [
            "delete: [2, 3, 4, 5, 6, 7, 8, 9]\n",
            "pop: [2, 3, 4, 5, 6, 7, 8]\n",
            "remove: [2, 4, 5, 6, 7, 8]\n",
            "clear: []\n",
            "[]\n"
          ]
        }
      ]
    },
    {
      "cell_type": "code",
      "source": [
        "a = [12,3,4,5,6,7]\n",
        "a[0] = 1\n",
        "print(a)"
      ],
      "metadata": {
        "colab": {
          "base_uri": "https://localhost:8080/"
        },
        "id": "7vXIWLDauKTY",
        "outputId": "f4ad9870-f370-413c-9ff5-5ef12348ad22"
      },
      "execution_count": 18,
      "outputs": [
        {
          "output_type": "stream",
          "name": "stdout",
          "text": [
            "[1, 3, 4, 5, 6, 7]\n"
          ]
        }
      ]
    },
    {
      "cell_type": "code",
      "source": [
        "#insert(), append(), extend()\n",
        "\n",
        "a.insert(0,10)         #list.insert(index,value)\n",
        "print(a)\n",
        "a.append(11)            #list.append(value)\n",
        "print(a)\n",
        "b = [12,13,14]          #list.extend(value)\n",
        "a.extend(b)\n",
        "print(a)"
      ],
      "metadata": {
        "colab": {
          "base_uri": "https://localhost:8080/"
        },
        "id": "QHxfs52luUPy",
        "outputId": "db18ff46-652b-41ca-c378-4fc94ae2a1ef"
      },
      "execution_count": 22,
      "outputs": [
        {
          "output_type": "stream",
          "name": "stdout",
          "text": [
            "[10, 10, 10, 1, 3, 4, 5, 6, 7, 11, 12, 13, 14]\n",
            "[10, 10, 10, 1, 3, 4, 5, 6, 7, 11, 12, 13, 14, 11]\n",
            "[10, 10, 10, 1, 3, 4, 5, 6, 7, 11, 12, 13, 14, 11, 12, 13, 14]\n"
          ]
        }
      ]
    },
    {
      "cell_type": "code",
      "source": [
        "a = []\n",
        "for i in range(1,101):\n",
        "  a.append(i)\n",
        "print(a)"
      ],
      "metadata": {
        "colab": {
          "base_uri": "https://localhost:8080/"
        },
        "id": "4Nuy_eHevdat",
        "outputId": "a7187b2c-b5c9-46d8-f542-fe73d71a0d7a"
      },
      "execution_count": 23,
      "outputs": [
        {
          "output_type": "stream",
          "name": "stdout",
          "text": [
            "[1, 2, 3, 4, 5, 6, 7, 8, 9, 10, 11, 12, 13, 14, 15, 16, 17, 18, 19, 20, 21, 22, 23, 24, 25, 26, 27, 28, 29, 30, 31, 32, 33, 34, 35, 36, 37, 38, 39, 40, 41, 42, 43, 44, 45, 46, 47, 48, 49, 50, 51, 52, 53, 54, 55, 56, 57, 58, 59, 60, 61, 62, 63, 64, 65, 66, 67, 68, 69, 70, 71, 72, 73, 74, 75, 76, 77, 78, 79, 80, 81, 82, 83, 84, 85, 86, 87, 88, 89, 90, 91, 92, 93, 94, 95, 96, 97, 98, 99, 100]\n"
          ]
        }
      ]
    },
    {
      "cell_type": "code",
      "source": [
        "#list comprehension :- used to sort the syntax of list to save the line of code\n",
        "\n",
        "# syntax:- [expression for items in list]\n",
        "\n",
        "x = [i for i in range(1,101)]\n",
        "print(x)"
      ],
      "metadata": {
        "colab": {
          "base_uri": "https://localhost:8080/"
        },
        "id": "FUTczEMQvx4p",
        "outputId": "039706c1-48d5-4fcf-ae01-9f02c0d1a169"
      },
      "execution_count": 24,
      "outputs": [
        {
          "output_type": "stream",
          "name": "stdout",
          "text": [
            "[1, 2, 3, 4, 5, 6, 7, 8, 9, 10, 11, 12, 13, 14, 15, 16, 17, 18, 19, 20, 21, 22, 23, 24, 25, 26, 27, 28, 29, 30, 31, 32, 33, 34, 35, 36, 37, 38, 39, 40, 41, 42, 43, 44, 45, 46, 47, 48, 49, 50, 51, 52, 53, 54, 55, 56, 57, 58, 59, 60, 61, 62, 63, 64, 65, 66, 67, 68, 69, 70, 71, 72, 73, 74, 75, 76, 77, 78, 79, 80, 81, 82, 83, 84, 85, 86, 87, 88, 89, 90, 91, 92, 93, 94, 95, 96, 97, 98, 99, 100]\n"
          ]
        }
      ]
    },
    {
      "cell_type": "code",
      "source": [
        "x = [i for i in range(1,101) if i%2==0]\n",
        "print(x)"
      ],
      "metadata": {
        "colab": {
          "base_uri": "https://localhost:8080/"
        },
        "id": "IC4LD69Lwdlv",
        "outputId": "0d0a5422-96aa-4f4a-e590-970acb129220"
      },
      "execution_count": 25,
      "outputs": [
        {
          "output_type": "stream",
          "name": "stdout",
          "text": [
            "[2, 4, 6, 8, 10, 12, 14, 16, 18, 20, 22, 24, 26, 28, 30, 32, 34, 36, 38, 40, 42, 44, 46, 48, 50, 52, 54, 56, 58, 60, 62, 64, 66, 68, 70, 72, 74, 76, 78, 80, 82, 84, 86, 88, 90, 92, 94, 96, 98, 100]\n"
          ]
        }
      ]
    },
    {
      "cell_type": "code",
      "source": [
        "print(x.count(10))\n",
        "print(max(x))\n",
        "print(min(x))\n",
        "x.sort()\n",
        "print(x)\n",
        "x.reverse()\n",
        "print(x)\n",
        "print(x.index(58))\n"
      ],
      "metadata": {
        "colab": {
          "base_uri": "https://localhost:8080/"
        },
        "id": "8EuSChrU50MC",
        "outputId": "825a3984-fe9c-45a0-ee72-5467e1ce3c08"
      },
      "execution_count": 42,
      "outputs": [
        {
          "output_type": "stream",
          "name": "stdout",
          "text": [
            "1\n",
            "100\n",
            "2\n",
            "[2, 4, 6, 8, 10, 12, 14, 16, 18, 20, 22, 24, 26, 28, 30, 32, 34, 36, 38, 40, 42, 44, 46, 48, 50, 52, 54, 56, 58, 60, 62, 64, 66, 68, 70, 72, 74, 76, 78, 80, 82, 84, 86, 88, 90, 92, 94, 96, 98, 100]\n",
            "[100, 98, 96, 94, 92, 90, 88, 86, 84, 82, 80, 78, 76, 74, 72, 70, 68, 66, 64, 62, 60, 58, 56, 54, 52, 50, 48, 46, 44, 42, 40, 38, 36, 34, 32, 30, 28, 26, 24, 22, 20, 18, 16, 14, 12, 10, 8, 6, 4, 2]\n",
            "21\n"
          ]
        }
      ]
    },
    {
      "cell_type": "code",
      "source": [
        "#zip functions\n",
        "\n",
        "l = [1,2,3,4,5]\n",
        "s = [\"One\",\"Two\",\"Three\",\"Four\",\"Five\"]\n",
        "print(list(zip(l,s)))"
      ],
      "metadata": {
        "colab": {
          "base_uri": "https://localhost:8080/"
        },
        "id": "e6ZMwZXJ7Jo8",
        "outputId": "3884286a-3c8f-4ba5-99c1-993681c4c575"
      },
      "execution_count": 43,
      "outputs": [
        {
          "output_type": "stream",
          "name": "stdout",
          "text": [
            "[(1, 'One'), (2, 'Two'), (3, 'Three'), (4, 'Four'), (5, 'Five')]\n"
          ]
        }
      ]
    },
    {
      "cell_type": "code",
      "source": [
        "#with zip function:\n",
        "l = [1,2,3,4,5]\n",
        "m = [11,12,13,14,15]\n",
        "for i,j in zip(l,m):\n",
        "  print(i,j)\n",
        "print()\n",
        "#without zip function\n",
        "\n",
        "for i in range(len(l)):\n",
        "  print(l[i],m[i])"
      ],
      "metadata": {
        "colab": {
          "base_uri": "https://localhost:8080/"
        },
        "id": "3hSgCw1M7ju7",
        "outputId": "92fec9cd-8b31-4c9a-c250-cf1bb553fea9"
      },
      "execution_count": 48,
      "outputs": [
        {
          "output_type": "stream",
          "name": "stdout",
          "text": [
            "1 11\n",
            "2 12\n",
            "3 13\n",
            "4 14\n",
            "5 15\n",
            "\n",
            "1 11\n",
            "2 12\n",
            "3 13\n",
            "4 14\n",
            "5 15\n"
          ]
        }
      ]
    },
    {
      "cell_type": "code",
      "source": [
        "#program to convert string into list\n",
        "\n",
        "l = input(\"Enter the value\")\n",
        "print(list(l))"
      ],
      "metadata": {
        "colab": {
          "base_uri": "https://localhost:8080/"
        },
        "id": "FEC1uJR8-aX-",
        "outputId": "620dd6a7-ea88-4b42-a02c-91c6fc6b1164"
      },
      "execution_count": 49,
      "outputs": [
        {
          "output_type": "stream",
          "name": "stdout",
          "text": [
            "Enter the valuemy name is\n",
            "['m', 'y', ' ', 'n', 'a', 'm', 'e', ' ', 'i', 's']\n"
          ]
        }
      ]
    },
    {
      "cell_type": "code",
      "source": [
        "l = input(\"Enter the value\")\n",
        "print(l.split())"
      ],
      "metadata": {
        "colab": {
          "base_uri": "https://localhost:8080/"
        },
        "id": "bm1gZiIb-nn5",
        "outputId": "011078ed-5cf3-4029-bd69-e5eaf4562a29"
      },
      "execution_count": 50,
      "outputs": [
        {
          "output_type": "stream",
          "name": "stdout",
          "text": [
            "Enter the valuemy name is\n",
            "['my', 'name', 'is']\n"
          ]
        }
      ]
    },
    {
      "cell_type": "code",
      "source": [
        "#multiple input\n",
        "\n",
        "x = []\n",
        "for a in range(1,5):\n",
        "   n = input(\"Enter the value\"+str(a)+\":-\")\n",
        "  #  a=n.split()\n",
        "   x.append(a)\n",
        "print(x)\n"
      ],
      "metadata": {
        "colab": {
          "base_uri": "https://localhost:8080/"
        },
        "id": "VzJJh5rX-tIk",
        "outputId": "0c5157b6-c4cb-430c-8e93-6baf5dd10096"
      },
      "execution_count": 58,
      "outputs": [
        {
          "output_type": "stream",
          "name": "stdout",
          "text": [
            "Enter the value1:-my name is saurabh pal\n",
            "Enter the value2:-i am iconic person\n",
            "Enter the value3:-i am in the top 5 richest person in the world\n",
            "Enter the value4:-i am fond of sports car\n",
            "[['my', 'name', 'is', 'saurabh', 'pal'], ['i', 'am', 'iconic', 'person'], ['i', 'am', 'in', 'the', 'top', '5', 'richest', 'person', 'in', 'the', 'world'], ['i', 'am', 'fond', 'of', 'sports', 'car']]\n"
          ]
        }
      ]
    },
    {
      "cell_type": "code",
      "source": [
        "x = []\n",
        "for a in range(1,5):\n",
        "   n = input(\"Enter the value\"+str(a)+\":-\")\n",
        "   # a=n.split()\n",
        "   x.append(n)\n",
        "print(x)\n"
      ],
      "metadata": {
        "colab": {
          "base_uri": "https://localhost:8080/"
        },
        "id": "56y39pobASLh",
        "outputId": "9d04e561-5748-4545-d99e-4c62467673fb"
      },
      "execution_count": 60,
      "outputs": [
        {
          "output_type": "stream",
          "name": "stdout",
          "text": [
            "Enter the value1:-my name is saurabh pal\n",
            "Enter the value2:-i am in the top 5 richest person in the world\n",
            "Enter the value3:-i am iconic person\n",
            "Enter the value4:-i am fond of sports car\n",
            "['my name is saurabh pal', 'i am in the top 5 richest person in the world', 'i am iconic person', 'i am fond of sports car']\n"
          ]
        }
      ]
    },
    {
      "cell_type": "code",
      "source": [
        "#implement a stack using a list data type\n",
        "\n",
        "#stack is a linear data structure  LIFO or FILO\n",
        "#stack operations : push:- insert an elements ,pop:- delete last elemet ,peek:- display the last elemet ,display:- display list\n",
        "\n",
        "l = []\n",
        "while True:\n",
        "  c = int(input('''\n",
        "  1.Push Elements\n",
        "  2.Pop Elements\n",
        "  3.Peek Elements\n",
        "  4.Display Elements\n",
        "  5.Exit\n",
        "  '''))\n",
        "  if c==1:\n",
        "    n = int(input(\"Enter the value\"))\n",
        "    l.append(n)\n",
        "    print(l)\n",
        "  elif c==2:\n",
        "    if len(l)==0:\n",
        "      print(\"List is empty\")\n",
        "    else:\n",
        "      p =l.pop()\n",
        "      print(\"Pop element is :\",p)\n",
        "      print(l)\n",
        "  elif c==3:\n",
        "    if len(l)==0:\n",
        "      print(\"List is empty\")\n",
        "    else:\n",
        "      print(\"Last stack value\",l[-1])\n",
        "  elif c==4:\n",
        "    print(\"Display stack\",l)\n",
        "  elif c==5:\n",
        "    break\n",
        "  else:\n",
        "    print(\"Invalid Choice\")\n",
        "\n"
      ],
      "metadata": {
        "colab": {
          "base_uri": "https://localhost:8080/"
        },
        "id": "gDnxw25OZ6L0",
        "outputId": "5a77bb62-6883-4968-b889-420bb29a1cb2"
      },
      "execution_count": 3,
      "outputs": [
        {
          "name": "stdout",
          "output_type": "stream",
          "text": [
            "\n",
            "  1.Push Elements\n",
            "  2.Pop Elements\n",
            "  3.Peek Elements\n",
            "  4.Display Elements\n",
            "  5.Exit\n",
            "  1\n",
            "Enter the value20\n",
            "[20]\n",
            "\n",
            "  1.Push Elements\n",
            "  2.Pop Elements\n",
            "  3.Peek Elements\n",
            "  4.Display Elements\n",
            "  5.Exit\n",
            "  1\n",
            "Enter the value30\n",
            "[20, 30]\n",
            "\n",
            "  1.Push Elements\n",
            "  2.Pop Elements\n",
            "  3.Peek Elements\n",
            "  4.Display Elements\n",
            "  5.Exit\n",
            "  40\n",
            "Invalid Choice\n",
            "\n",
            "  1.Push Elements\n",
            "  2.Pop Elements\n",
            "  3.Peek Elements\n",
            "  4.Display Elements\n",
            "  5.Exit\n",
            "  1\n",
            "Enter the value40\n",
            "[20, 30, 40]\n",
            "\n",
            "  1.Push Elements\n",
            "  2.Pop Elements\n",
            "  3.Peek Elements\n",
            "  4.Display Elements\n",
            "  5.Exit\n",
            "  2\n",
            "Pop element is : 40\n",
            "[20, 30]\n",
            "\n",
            "  1.Push Elements\n",
            "  2.Pop Elements\n",
            "  3.Peek Elements\n",
            "  4.Display Elements\n",
            "  5.Exit\n",
            "  4\n",
            "Display stack [20, 30]\n",
            "\n",
            "  1.Push Elements\n",
            "  2.Pop Elements\n",
            "  3.Peek Elements\n",
            "  4.Display Elements\n",
            "  5.Exit\n",
            "  5\n"
          ]
        }
      ]
    },
    {
      "cell_type": "code",
      "source": [
        "#implement a queqe using a list data type\n",
        "\n",
        "#it is linear structure , FIFO\n",
        "#Queue operations : Enqueque:- Add an item to the queque ,Dequeque:- Remove an item ,Front:- get the front item ,Rear:- get the last item\n",
        "\n",
        "l = []\n",
        "while True:\n",
        "  c = int(input('''\n",
        "  1.Push Elements\n",
        "  2.Pop Elements\n",
        "  3.Front Elements\n",
        "  4.Last Elements\n",
        "  5.Display Elements\n",
        "  6.Exit\n",
        "  '''))\n",
        "  if c==1:\n",
        "    n = int(input(\"Enter the value\"))\n",
        "    l.append(n)\n",
        "    print(l)\n",
        "  elif c==2:\n",
        "    if len(l)==0:\n",
        "      print(\"Queque is empty\")\n",
        "    else:\n",
        "      del l[0]\n",
        "      print(l)\n",
        "  elif c==3:\n",
        "    if len(l)==0:\n",
        "      print(\"Queque is empty\")\n",
        "    else:\n",
        "      print(\"First Queuqe value\",l[0])\n",
        "  elif c==4:\n",
        "    if len(l)==0:\n",
        "      print(\"Queque is empty\")\n",
        "    else:\n",
        "      print(\"Last Queuqe value\",l[-1])\n",
        "  elif c==5:\n",
        "    print(\"Display Queque\",l)\n",
        "  elif c==6:\n",
        "    break\n",
        "  else:\n",
        "    print(\"Invalid Choice\")\n",
        "\n",
        "\n"
      ],
      "metadata": {
        "colab": {
          "base_uri": "https://localhost:8080/"
        },
        "id": "xT_6iOUudA7-",
        "outputId": "aa0cb150-d805-49a7-a718-d9a3416545ba"
      },
      "execution_count": 4,
      "outputs": [
        {
          "name": "stdout",
          "output_type": "stream",
          "text": [
            "\n",
            "  1.Push Elements\n",
            "  2.Pop Elements\n",
            "  3.Front Elements\n",
            "  4.Last Elements\n",
            "  5.Display Elements\n",
            "  6.Exit\n",
            "  1\n",
            "Enter the value10\n",
            "[10]\n",
            "\n",
            "  1.Push Elements\n",
            "  2.Pop Elements\n",
            "  3.Front Elements\n",
            "  4.Last Elements\n",
            "  5.Display Elements\n",
            "  6.Exit\n",
            "  1\n",
            "Enter the value20\n",
            "[10, 20]\n",
            "\n",
            "  1.Push Elements\n",
            "  2.Pop Elements\n",
            "  3.Front Elements\n",
            "  4.Last Elements\n",
            "  5.Display Elements\n",
            "  6.Exit\n",
            "  1\n",
            "Enter the value30\n",
            "[10, 20, 30]\n",
            "\n",
            "  1.Push Elements\n",
            "  2.Pop Elements\n",
            "  3.Front Elements\n",
            "  4.Last Elements\n",
            "  5.Display Elements\n",
            "  6.Exit\n",
            "  2\n",
            "[20, 30]\n",
            "\n",
            "  1.Push Elements\n",
            "  2.Pop Elements\n",
            "  3.Front Elements\n",
            "  4.Last Elements\n",
            "  5.Display Elements\n",
            "  6.Exit\n",
            "  3\n",
            "First Queuqe value 20\n",
            "\n",
            "  1.Push Elements\n",
            "  2.Pop Elements\n",
            "  3.Front Elements\n",
            "  4.Last Elements\n",
            "  5.Display Elements\n",
            "  6.Exit\n",
            "  4\n",
            "Last Queuqe value 30\n",
            "\n",
            "  1.Push Elements\n",
            "  2.Pop Elements\n",
            "  3.Front Elements\n",
            "  4.Last Elements\n",
            "  5.Display Elements\n",
            "  6.Exit\n",
            "  5\n",
            "Display Queque [20, 30]\n",
            "\n",
            "  1.Push Elements\n",
            "  2.Pop Elements\n",
            "  3.Front Elements\n",
            "  4.Last Elements\n",
            "  5.Display Elements\n",
            "  6.Exit\n",
            "  6\n"
          ]
        }
      ]
    },
    {
      "cell_type": "code",
      "source": [
        "#Dictionary : unordered data type, key: value pair , {} , mutable , key cant be use again but value can be repeat again\n",
        "\n",
        "dic = {\n",
        "    \"name\":\"Saurabh\",\n",
        "    \"age\":23,\n",
        "    \"city\":\"Pune\",\n",
        "    \"state\":\"Maharashtra\"\n",
        "}\n",
        "\n",
        "#functions in dic get(), keys(), values(), items()\n",
        "\n",
        "print(dic[\"name\"])\n",
        "print(dic.get(\"name\"))\n",
        "print(dic.keys())\n",
        "print(dic.values())\n",
        "print(dic.items())\n"
      ],
      "metadata": {
        "colab": {
          "base_uri": "https://localhost:8080/"
        },
        "id": "K1YTddcPfAwX",
        "outputId": "7354e52a-2a7a-4a82-f5dc-116c56615447"
      },
      "execution_count": 12,
      "outputs": [
        {
          "output_type": "stream",
          "name": "stdout",
          "text": [
            "{'name': 'Saurabh', 'age': 23, 'city': 'Pune', 'state': 'Maharashtra'}\n",
            "Saurabh\n",
            "Saurabh\n",
            "dict_keys(['name', 'age', 'city', 'state'])\n",
            "dict_values(['Saurabh', 23, 'Pune', 'Maharashtra'])\n",
            "dict_items([('name', 'Saurabh'), ('age', 23), ('city', 'Pune'), ('state', 'Maharashtra')])\n"
          ]
        }
      ]
    },
    {
      "cell_type": "code",
      "source": [
        "# del and pop function in dic\n",
        "dic = {\n",
        "    \"name\":\"Saurabh\",\n",
        "    \"age\":23,\n",
        "    \"city\":\"Pune\",\n",
        "    \"state\":\"Maharashtra\",\n",
        "    \"country\": \"India\",\n",
        "    \"planet\" : \"Earth\"\n",
        "}\n",
        "print(dic)\n",
        "del dic[\"planet\"]\n",
        "print(dic)\n",
        "dic.pop(\"country\")\n",
        "print(dic)"
      ],
      "metadata": {
        "colab": {
          "base_uri": "https://localhost:8080/"
        },
        "id": "T88q2GVxhcsj",
        "outputId": "b6dc2196-5cb4-46d7-b8a2-287630df219f"
      },
      "execution_count": 14,
      "outputs": [
        {
          "output_type": "stream",
          "name": "stdout",
          "text": [
            "{'name': 'Saurabh', 'age': 23, 'city': 'Pune', 'state': 'Maharashtra', 'country': 'India', 'planet': 'Earth'}\n",
            "{'name': 'Saurabh', 'age': 23, 'city': 'Pune', 'state': 'Maharashtra', 'country': 'India'}\n",
            "{'name': 'Saurabh', 'age': 23, 'city': 'Pune', 'state': 'Maharashtra'}\n"
          ]
        }
      ]
    },
    {
      "cell_type": "code",
      "source": [
        "#update in dic\n",
        "\n",
        "dic = {\n",
        "    \"name\":\"Saurabh\",\n",
        "    \"age\":23,\n",
        "    \"city\":\"Pune\",\n",
        "    \"state\":\"Maharashtra\",\n",
        "    \"country\": \"India\",\n",
        "    \"planet\" : \"Earth\"\n",
        "}\n",
        "print(dic)\n",
        "dic.update({\"name\":\"Saurabh Pal\"})\n",
        "print(dic)\n",
        "print(dic.clear())\n"
      ],
      "metadata": {
        "colab": {
          "base_uri": "https://localhost:8080/"
        },
        "id": "CqyLWyzgiFP_",
        "outputId": "aa86588b-94c9-48fc-c452-c6cb278ded18"
      },
      "execution_count": 17,
      "outputs": [
        {
          "output_type": "stream",
          "name": "stdout",
          "text": [
            "{'name': 'Saurabh', 'age': 23, 'city': 'Pune', 'state': 'Maharashtra', 'country': 'India', 'planet': 'Earth'}\n",
            "{'name': 'Saurabh Pal', 'age': 23, 'city': 'Pune', 'state': 'Maharashtra', 'country': 'India', 'planet': 'Earth'}\n",
            "None\n"
          ]
        }
      ]
    },
    {
      "cell_type": "code",
      "source": [
        "# insert in dic\n",
        "\n",
        "dic = {\n",
        "    \"name\":\"Saurabh\",\n",
        "    \"age\":23,\n",
        "    \"city\":\"Pune\",\n",
        "    \"state\":\"Maharashtra\"\n",
        "}\n",
        "print(dic)\n",
        "dic[\"country\"]=\"India\"\n",
        "print(dic)"
      ],
      "metadata": {
        "colab": {
          "base_uri": "https://localhost:8080/"
        },
        "id": "VzLbOd_-iddj",
        "outputId": "89f02f35-cc37-4adb-d4c3-a440ed286a6f"
      },
      "execution_count": 20,
      "outputs": [
        {
          "output_type": "stream",
          "name": "stdout",
          "text": [
            "{'name': 'Saurabh', 'age': 23, 'city': 'Pune', 'state': 'Maharashtra'}\n",
            "{'name': 'Saurabh', 'age': 23, 'city': 'Pune', 'state': 'Maharashtra', 'country': 'India'}\n"
          ]
        }
      ]
    },
    {
      "cell_type": "code",
      "source": [
        "dic = {\n",
        "    \"name\":\"Saurabh\",\n",
        "    \"age\":23,\n",
        "    \"city\":\"Pune\",\n",
        "    \"state\":\"Maharashtra\"\n",
        "}\n",
        "\n",
        "for i in dic:\n",
        "  print(i,\" : \",dic[i])\n",
        "\n"
      ],
      "metadata": {
        "colab": {
          "base_uri": "https://localhost:8080/"
        },
        "id": "AL4EvhbSaYBQ",
        "outputId": "a8429b58-2b54-4568-ab07-2cac799a75a7"
      },
      "execution_count": 10,
      "outputs": [
        {
          "output_type": "stream",
          "name": "stdout",
          "text": [
            "name  :  Saurabh\n",
            "age  :  23\n",
            "city  :  Pune\n",
            "state  :  Maharashtra\n"
          ]
        }
      ]
    },
    {
      "cell_type": "code",
      "source": [
        "#nested dictionary\n",
        "\n",
        "course = {\n",
        "    \"php\": {\"duration\":1,\"months\":6,\"fees\":16000},\n",
        "    \"java\": {\"duration\":2,\"months\":5,\"fees\":4000},\n",
        "    \"python\": {\"duration\":3,\"months\":4,\"fees\":3000},\n",
        "    \"c\": {\"duration\":4,\"months\":3,\"fees\":2000},\n",
        "    \"c++\": {\"duration\":25,\"months\":2,\"fees\":1000}\n",
        "}\n",
        "print(course)\n",
        "print(course[\"php\"])\n",
        "print(course[\"php\"][\"fees\"])"
      ],
      "metadata": {
        "colab": {
          "base_uri": "https://localhost:8080/"
        },
        "id": "kc-SPlIxisrZ",
        "outputId": "12de0ded-91fa-4243-a747-ba389ef87068"
      },
      "execution_count": 23,
      "outputs": [
        {
          "output_type": "stream",
          "name": "stdout",
          "text": [
            "{'php': {'duration': 1, 'months': 6, 'fees': 16000}, 'java': {'duration': 2, 'months': 5, 'fees': 4000}, 'python': {'duration': 3, 'months': 4, 'fees': 3000}, 'c': {'duration': 4, 'months': 3, 'fees': 2000}, 'c++': {'duration': 25, 'months': 2, 'fees': 1000}}\n",
            "{'duration': 1, 'months': 6, 'fees': 16000}\n",
            "16000\n"
          ]
        }
      ]
    },
    {
      "cell_type": "code",
      "source": [
        "course = {\n",
        "    \"php\": {\"duration\":1,\"months\":6,\"fees\":16000},\n",
        "    \"java\": {\"duration\":2,\"months\":5,\"fees\":4000},\n",
        "    \"python\": {\"duration\":3,\"months\":4,\"fees\":3000},\n",
        "    \"c\": {\"duration\":4,\"months\":3,\"fees\":2000},\n",
        "    \"c++\": {\"duration\":25,\"months\":2,\"fees\":1000}\n",
        "}\n",
        "\n",
        "for i,j in course.items():\n",
        "  print(i,\" : \",j)"
      ],
      "metadata": {
        "colab": {
          "base_uri": "https://localhost:8080/"
        },
        "id": "FGZCAuTdjhtk",
        "outputId": "0b1c9d70-7148-4390-f6f8-9b53c9db904c"
      },
      "execution_count": 24,
      "outputs": [
        {
          "output_type": "stream",
          "name": "stdout",
          "text": [
            "php  :  {'duration': 1, 'months': 6, 'fees': 16000}\n",
            "java  :  {'duration': 2, 'months': 5, 'fees': 4000}\n",
            "python  :  {'duration': 3, 'months': 4, 'fees': 3000}\n",
            "c  :  {'duration': 4, 'months': 3, 'fees': 2000}\n",
            "c++  :  {'duration': 25, 'months': 2, 'fees': 1000}\n"
          ]
        }
      ]
    },
    {
      "cell_type": "code",
      "source": [
        "#Tuple:  immutable, ordered data type, ()\n",
        "\n",
        "t= (1,2,3,4,5,6,7,8,9,10)\n",
        "print(t)\n",
        "print(t[0])\n",
        "print(t[-1])\n",
        "print(t[1:4])\n",
        "print(t[::-1])\n",
        "print(t[1:5:2])"
      ],
      "metadata": {
        "colab": {
          "base_uri": "https://localhost:8080/"
        },
        "id": "-MBRd5b1jysw",
        "outputId": "e6b3ab63-ddc9-431b-fa95-685a3e81772f"
      },
      "execution_count": 27,
      "outputs": [
        {
          "output_type": "stream",
          "name": "stdout",
          "text": [
            "(1, 2, 3, 4, 5, 6, 7, 8, 9, 10)\n",
            "1\n",
            "10\n",
            "(2, 3, 4)\n",
            "(10, 9, 8, 7, 6, 5, 4, 3, 2, 1)\n",
            "(2, 4)\n"
          ]
        }
      ]
    },
    {
      "cell_type": "code",
      "source": [
        "#tuple functions:  min(), max(), count(), sum(), index()\n",
        "t= (1,2,3,4,5,6,7,8,9,10)\n",
        "print(min(t))\n",
        "print(max(t))\n",
        "print(t.count(1))\n",
        "print(sum(t))\n",
        "print(sum(t,10))\n",
        "print(t.index(2))"
      ],
      "metadata": {
        "colab": {
          "base_uri": "https://localhost:8080/"
        },
        "id": "lQ8Ul1r1lCIl",
        "outputId": "c8e587a2-d345-4a08-e6fa-b13ef48380af"
      },
      "execution_count": 30,
      "outputs": [
        {
          "output_type": "stream",
          "name": "stdout",
          "text": [
            "1\n",
            "10\n",
            "1\n",
            "55\n",
            "65\n",
            "1\n"
          ]
        }
      ]
    },
    {
      "cell_type": "code",
      "source": [
        "#sets: unordered, unindexed,unique elements , we can insert and delete but can't change\n",
        "\n",
        "s = {1,2,2,2,3,3,4,5,6,7,7,7,8,9}\n",
        "print(s)\n",
        "print()\n",
        "for a in s:\n",
        "  print(a)"
      ],
      "metadata": {
        "colab": {
          "base_uri": "https://localhost:8080/"
        },
        "id": "Nj1IHkcbmKeu",
        "outputId": "b63c1015-41dd-457e-91d2-128442e5c9e2"
      },
      "execution_count": 40,
      "outputs": [
        {
          "output_type": "stream",
          "name": "stdout",
          "text": [
            "{1, 2, 3, 4, 5, 6, 7, 8, 9}\n",
            "\n",
            "1\n",
            "2\n",
            "3\n",
            "4\n",
            "5\n",
            "6\n",
            "7\n",
            "8\n",
            "9\n"
          ]
        }
      ]
    },
    {
      "cell_type": "code",
      "source": [
        "# set function:  set(), add(), pop(), remove(), clear(), discard(), update()\n",
        "\n",
        "l = [1,2,3,4]\n",
        "print(set(l))\n",
        "print()\n",
        "s = {1,2,3,4,5,6,7,8}\n",
        "print(s)\n",
        "s.add(9)\n",
        "print(s)\n",
        "s.pop()\n",
        "print(s)\n",
        "s.remove(2)\n",
        "print(s)\n",
        "s.discard(9)\n",
        "print(s)\n",
        "s.clear()\n",
        "print(s)"
      ],
      "metadata": {
        "colab": {
          "base_uri": "https://localhost:8080/"
        },
        "id": "rhpcbWPSnDmd",
        "outputId": "ec66b92d-a0b1-42b6-decd-5f6bcd5ae3fb"
      },
      "execution_count": 45,
      "outputs": [
        {
          "output_type": "stream",
          "name": "stdout",
          "text": [
            "{1, 2, 3, 4}\n",
            "\n",
            "{1, 2, 3, 4, 5, 6, 7, 8}\n",
            "{1, 2, 3, 4, 5, 6, 7, 8, 9}\n",
            "{2, 3, 4, 5, 6, 7, 8, 9}\n",
            "{3, 4, 5, 6, 7, 8, 9}\n",
            "{3, 4, 5, 6, 7, 8}\n",
            "set()\n"
          ]
        }
      ]
    },
    {
      "cell_type": "code",
      "source": [
        "from ast import arguments\n",
        "#Functions in python\n",
        "\n",
        "# 1. simple function\n",
        "# 2. function with arguments\n",
        "# 3. function with return type\n",
        "\n",
        "def add():\n",
        "  a = 10\n",
        "  b = 20\n",
        "  c = a+b\n",
        "  print(c)\n",
        "add()\n"
      ],
      "metadata": {
        "colab": {
          "base_uri": "https://localhost:8080/"
        },
        "id": "Rwo7AQ_eoceD",
        "outputId": "e4e66555-2529-4fab-fa4b-47bef1b48674"
      },
      "execution_count": 46,
      "outputs": [
        {
          "output_type": "stream",
          "name": "stdout",
          "text": [
            "30\n"
          ]
        }
      ]
    },
    {
      "cell_type": "code",
      "source": [
        "def add(a=1,b=1):\n",
        "  c = a+b\n",
        "  print(c)\n",
        "add(10,20)\n",
        "add()"
      ],
      "metadata": {
        "colab": {
          "base_uri": "https://localhost:8080/"
        },
        "id": "qshuOtz7p1JJ",
        "outputId": "39e0682b-c221-47b5-8f51-83ccb6970dc1"
      },
      "execution_count": 49,
      "outputs": [
        {
          "output_type": "stream",
          "name": "stdout",
          "text": [
            "30\n",
            "2\n"
          ]
        }
      ]
    },
    {
      "cell_type": "code",
      "source": [
        "def square(x):\n",
        "  return x*x,x*2\n",
        "print(square(10))"
      ],
      "metadata": {
        "colab": {
          "base_uri": "https://localhost:8080/"
        },
        "id": "8R48lL7fqeGe",
        "outputId": "0a9d6086-dc21-442b-cd55-bb2bf8f9d19f"
      },
      "execution_count": 58,
      "outputs": [
        {
          "output_type": "stream",
          "name": "stdout",
          "text": [
            "(100, 20)\n"
          ]
        }
      ]
    },
    {
      "cell_type": "code",
      "source": [
        "#math module\n",
        "\n",
        "import math as m\n",
        "\n",
        "print(m.ceil(10.3))\n",
        "print(m.floor(10.7))\n",
        "print(m.fabs(-10))\n",
        "print(m.factorial(5))\n",
        "print(m.sqrt(25))\n",
        "print(m.pow(2,3))\n",
        "print(m.pi)\n",
        "print(m.e)"
      ],
      "metadata": {
        "colab": {
          "base_uri": "https://localhost:8080/"
        },
        "id": "-RYztEvsv6Pa",
        "outputId": "c2e0488d-2eac-4dad-cfbe-b3025cf86762"
      },
      "execution_count": 63,
      "outputs": [
        {
          "output_type": "stream",
          "name": "stdout",
          "text": [
            "11\n",
            "10\n",
            "10.0\n",
            "120\n",
            "5.0\n",
            "8.0\n",
            "3.141592653589793\n",
            "2.718281828459045\n"
          ]
        }
      ]
    },
    {
      "cell_type": "code",
      "source": [
        "#random module\n",
        "import random\n",
        "print(random.randint(1,100))\n",
        "print(random.random())\n",
        "print(random.choice([1,2,3,4,5,6,7,8,9]))\n",
        "print(random.shuffle([1,2,3,4,5,6]))\n",
        "\n",
        "\n"
      ],
      "metadata": {
        "colab": {
          "base_uri": "https://localhost:8080/"
        },
        "id": "39kog8I8wr1h",
        "outputId": "3f5dee06-39cd-4ecb-e9b1-6e70085a9a1d"
      },
      "execution_count": 67,
      "outputs": [
        {
          "output_type": "stream",
          "name": "stdout",
          "text": [
            "35\n",
            "0.6904666960428774\n",
            "9\n",
            "None\n"
          ]
        }
      ]
    },
    {
      "cell_type": "code",
      "source": [
        "#Datetime module\n",
        "\n",
        "import datetime\n",
        "print(datetime.datetime.now())\n",
        "print(datetime.datetime.now().year)\n",
        "print(datetime.datetime.now().month)\n",
        "print(datetime.datetime.now().day)\n",
        "print(datetime.datetime.now().hour)\n",
        "print(datetime.datetime.now().minute)\n",
        "print(datetime.datetime.now().second)"
      ],
      "metadata": {
        "colab": {
          "base_uri": "https://localhost:8080/"
        },
        "id": "ftzNWK1sxlPY",
        "outputId": "6ba62239-d2e8-4aa2-a4f2-4a67aae484a0"
      },
      "execution_count": 73,
      "outputs": [
        {
          "output_type": "stream",
          "name": "stdout",
          "text": [
            "2024-09-07 09:18:02.973880\n",
            "2024\n",
            "9\n",
            "7\n",
            "9\n",
            "18\n",
            "2\n"
          ]
        }
      ]
    },
    {
      "cell_type": "code",
      "source": [
        "import random\n",
        "import math\n",
        "\n",
        "user = int(input(\"Enter your value:\"))\n",
        "comp = random.randrange(1,101)\n",
        "print(comp)\n",
        "if user>comp:\n",
        "  print(\"User win\")\n",
        "elif user==comp:\n",
        "  print(\"Draw\")\n",
        "else:\n",
        "  print(\"Computer win\")\n"
      ],
      "metadata": {
        "colab": {
          "base_uri": "https://localhost:8080/"
        },
        "id": "m25Dh_rlx-At",
        "outputId": "75678589-197b-4c2a-a756-667b7b3a4069"
      },
      "execution_count": 86,
      "outputs": [
        {
          "output_type": "stream",
          "name": "stdout",
          "text": [
            "Enter your value:88\n",
            "53\n",
            "User win\n"
          ]
        }
      ]
    },
    {
      "cell_type": "code",
      "source": [
        "#Rock Paper Scissors\n",
        "\n",
        "import random\n",
        "l=[\"rock\",\"paper\",\"scissors\"]\n",
        "\n",
        "while True:\n",
        "  ucount = 0\n",
        "  ccount = 0\n",
        "  uc = int(input('''\n",
        "  Want to play.....\n",
        "    1.Yes\n",
        "    2.No\n",
        "  '''))\n",
        "  if uc==1:\n",
        "    for a in range(1,6):\n",
        "      userInput = int(input('''Please choose the item...\n",
        "                                  1.Rock\n",
        "                                  2.Paper\n",
        "                                  3.Scissors\n",
        "              '''))\n",
        "      if userInput==1:\n",
        "        userChoice = \"rock\"\n",
        "      elif userInput==2:\n",
        "        userChoice = \"paper\"\n",
        "      elif userInput==3:\n",
        "        userChoice = \"scissors\"\n",
        "      else:\n",
        "        print(\"Invalid Choice\")\n",
        "      comp_choice = random .choice(l)\n",
        "      if comp_choice == userChoice:\n",
        "        print(\"Computer choice\",comp_choice)\n",
        "        print(\"User choice\",userChoice)\n",
        "        print(\"Draw\")\n",
        "        ucount = ucount+1\n",
        "        ccount = ccount+1\n",
        "      elif (userChoice == \"rock\" and comp_choice == \"scissors\") or (userChoice == \"paper\" and comp_choice == \"rock\") or (userChoice == \"scissors\" and comp_choice == \"paper\"):\n",
        "        print(\"Computer choice\",comp_choice)\n",
        "        print(\"User choice\",userChoice)\n",
        "        print(\"User win\")\n",
        "        ucount = ucount+1\n",
        "      else:\n",
        "        print(\"Computer choice\",comp_choice)\n",
        "        print(\"User choice\",userChoice)\n",
        "        print(\"Computer win\")\n",
        "        ccount = ccount+1\n",
        "      print(\"User score\",ucount)\n",
        "      print(\"Computer score\",ccount)\n",
        "    print(\"The final resul is: \")\n",
        "    if(ccount>ucount):\n",
        "      print(\"Computer win the game\")\n",
        "    elif(ucount>ccount):\n",
        "      print(\"User win the game\")\n",
        "    else:\n",
        "      print(\"Draw\")\n",
        "\n",
        "\n",
        "\n",
        "  elif uc==2:\n",
        "    break\n",
        "  else:\n",
        "    print(\"Invalid Choice\")"
      ],
      "metadata": {
        "colab": {
          "base_uri": "https://localhost:8080/"
        },
        "id": "gK5xMv3szira",
        "outputId": "85005d4c-3dc6-43cf-83aa-83f9b846938c"
      },
      "execution_count": 100,
      "outputs": [
        {
          "name": "stdout",
          "output_type": "stream",
          "text": [
            "\n",
            "  Want to play.....\n",
            "    1.Yes\n",
            "    2.No\n",
            "  1\n",
            "Please choose the item...\n",
            "                                  1.Rock\n",
            "                                  2.Paper\n",
            "                                  3.Scissors\n",
            "              1\n",
            "Computer choice rock\n",
            "User choice rock\n",
            "Draw\n",
            "User score 1\n",
            "Computer score 1\n",
            "Please choose the item...\n",
            "                                  1.Rock\n",
            "                                  2.Paper\n",
            "                                  3.Scissors\n",
            "              1\n",
            "Computer choice paper\n",
            "User choice rock\n",
            "Computer win\n",
            "User score 1\n",
            "Computer score 2\n",
            "Please choose the item...\n",
            "                                  1.Rock\n",
            "                                  2.Paper\n",
            "                                  3.Scissors\n",
            "              1\n",
            "Computer choice rock\n",
            "User choice rock\n",
            "Draw\n",
            "User score 2\n",
            "Computer score 3\n",
            "Please choose the item...\n",
            "                                  1.Rock\n",
            "                                  2.Paper\n",
            "                                  3.Scissors\n",
            "              1\n",
            "Computer choice scissors\n",
            "User choice rock\n",
            "User win\n",
            "User score 3\n",
            "Computer score 3\n",
            "Please choose the item...\n",
            "                                  1.Rock\n",
            "                                  2.Paper\n",
            "                                  3.Scissors\n",
            "              1\n",
            "Computer choice paper\n",
            "User choice rock\n",
            "Computer win\n",
            "User score 3\n",
            "Computer score 4\n",
            "The final resul is: \n",
            "Computer win the game\n",
            "\n",
            "  Want to play.....\n",
            "    1.Yes\n",
            "    2.No\n",
            "  2\n"
          ]
        }
      ]
    },
    {
      "cell_type": "code",
      "source": [
        "#JSON Python\n",
        "# communication b/w browser and server\n",
        "#JSON is text , written with JS Object Notation\n",
        "#JSON supports data types :- string, number, boolean, null, object, array\n",
        "\n",
        "\n",
        "import json\n",
        "p = '{\"java\":\"abc\",\"lang\":[\"xyz\",\"sdf\"]}'\n"
      ],
      "metadata": {
        "id": "H06sviANO-hi"
      },
      "execution_count": 101,
      "outputs": []
    }
  ]
}