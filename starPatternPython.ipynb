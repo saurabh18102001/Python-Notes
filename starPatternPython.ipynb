{
  "nbformat": 4,
  "nbformat_minor": 0,
  "metadata": {
    "colab": {
      "provenance": [],
      "authorship_tag": "ABX9TyMRPpLJoorU5YcwIhbXfKAM",
      "include_colab_link": true
    },
    "kernelspec": {
      "name": "python3",
      "display_name": "Python 3"
    },
    "language_info": {
      "name": "python"
    }
  },
  "cells": [
    {
      "cell_type": "markdown",
      "metadata": {
        "id": "view-in-github",
        "colab_type": "text"
      },
      "source": [
        "<a href=\"https://colab.research.google.com/github/saurabh18102001/Python-Notes/blob/main/starPatternPython.ipynb\" target=\"_parent\"><img src=\"https://colab.research.google.com/assets/colab-badge.svg\" alt=\"Open In Colab\"/></a>"
      ]
    },
    {
      "cell_type": "code",
      "execution_count": 26,
      "metadata": {
        "id": "scuEcOVjBcUv",
        "colab": {
          "base_uri": "https://localhost:8080/"
        },
        "outputId": "7b0a1a64-fbff-46c7-ce01-bc64ec33b1dc"
      },
      "outputs": [
        {
          "output_type": "stream",
          "name": "stdout",
          "text": [
            "Enter a number: 10\n",
            "\n",
            "\n",
            "*\n",
            "**\n",
            "***\n",
            "****\n",
            "*****\n",
            "******\n",
            "*******\n",
            "********\n",
            "*********"
          ]
        }
      ],
      "source": [
        "num = int(input(\"Enter a number: \"))\n",
        "for i in range(0,num):\n",
        "  print()\n",
        "  for j in range(i):\n",
        "    print(\"*\",end='')\n",
        "\n",
        ""
      ]
    },
    {
      "cell_type": "code",
      "source": [
        "num = int(input(\"Enter a number: \"))\n",
        "for i in range(num,0,-1):\n",
        "  print()\n",
        "  for j in range(i):\n",
        "    print(\"*\",end='')"
      ],
      "metadata": {
        "colab": {
          "base_uri": "https://localhost:8080/"
        },
        "id": "RavTekaVlDaU",
        "outputId": "4f984d24-52af-4d35-a892-3e6e9d4e05bd"
      },
      "execution_count": 27,
      "outputs": [
        {
          "output_type": "stream",
          "name": "stdout",
          "text": [
            "Enter a number: 10\n",
            "\n",
            "**********\n",
            "*********\n",
            "********\n",
            "*******\n",
            "******\n",
            "*****\n",
            "****\n",
            "***\n",
            "**\n",
            "*"
          ]
        }
      ]
    },
    {
      "cell_type": "code",
      "source": [
        "num = int(input(\"Enter a number: \"))\n",
        "for i in range(0,num):\n",
        "\n",
        "  for j in range(i):\n",
        "    print()\n",
        "    for k in range(j):\n",
        "      print(\" *\",end='')"
      ],
      "metadata": {
        "colab": {
          "base_uri": "https://localhost:8080/"
        },
        "id": "yG5evm5XlVva",
        "outputId": "25637652-e45b-404b-e3a0-f41e340ad0f7"
      },
      "execution_count": 36,
      "outputs": [
        {
          "output_type": "stream",
          "name": "stdout",
          "text": [
            "Enter a number: 10\n",
            "\n",
            "\n",
            "\n",
            " *\n",
            "\n",
            " *\n",
            " * *\n",
            "\n",
            " *\n",
            " * *\n",
            " * * *\n",
            "\n",
            " *\n",
            " * *\n",
            " * * *\n",
            " * * * *\n",
            "\n",
            " *\n",
            " * *\n",
            " * * *\n",
            " * * * *\n",
            " * * * * *\n",
            "\n",
            " *\n",
            " * *\n",
            " * * *\n",
            " * * * *\n",
            " * * * * *\n",
            " * * * * * *\n",
            "\n",
            " *\n",
            " * *\n",
            " * * *\n",
            " * * * *\n",
            " * * * * *\n",
            " * * * * * *\n",
            " * * * * * * *\n",
            "\n",
            " *\n",
            " * *\n",
            " * * *\n",
            " * * * *\n",
            " * * * * *\n",
            " * * * * * *\n",
            " * * * * * * *\n",
            " * * * * * * * *"
          ]
        }
      ]
    }
  ]
}